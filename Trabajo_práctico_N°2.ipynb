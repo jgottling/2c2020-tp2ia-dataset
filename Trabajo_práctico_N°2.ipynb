{
  "nbformat": 4,
  "nbformat_minor": 0,
  "metadata": {
    "colab": {
      "name": "Trabajo práctico N°2.ipynb",
      "provenance": [],
      "collapsed_sections": [
        "2hza7vLhxxko",
        "LtUOGuSWq2gT",
        "Jcrrp5O_vHT-",
        "eJCGrz2V4rSN",
        "ZaeUjFp4UwRk",
        "h9mlD--lUziz",
        "DTTqIxrfVgzp",
        "WnhJQ4dfVl3O",
        "XO_ZkZLcV3xg",
        "fO9Tx1ny8Mgk",
        "CKqxm9q0N_4I",
        "h---wuslOWbx",
        "3Tl_D5U0OSuV",
        "Fr2BE4rVTFRw",
        "kCudOysxTdup",
        "5rK9EuTWUjDZ",
        "igKfcx7ZUsiC",
        "qTBAKR6Q4rDv"
      ],
      "toc_visible": true,
      "include_colab_link": true
    },
    "kernelspec": {
      "name": "python3",
      "display_name": "Python 3"
    },
    "accelerator": "GPU"
  },
  "cells": [
    {
      "cell_type": "markdown",
      "metadata": {
        "id": "view-in-github",
        "colab_type": "text"
      },
      "source": [
        "<a href=\"https://colab.research.google.com/github/jgottling/2c2020-tp2ia-dataset/blob/main/Trabajo_pr%C3%A1ctico_N%C2%B02.ipynb\" target=\"_parent\"><img src=\"https://colab.research.google.com/assets/colab-badge.svg\" alt=\"Open In Colab\"/></a>"
      ]
    },
    {
      "cell_type": "markdown",
      "metadata": {
        "id": "2hza7vLhxxko"
      },
      "source": [
        "#### 0. Mount your drive content if not mounted yet"
      ]
    },
    {
      "cell_type": "code",
      "metadata": {
        "id": "bNEvqveivp2A",
        "outputId": "ab1fdcfb-f8e0-4bc2-a022-33124569247c",
        "colab": {
          "base_uri": "https://localhost:8080/",
          "height": 35
        }
      },
      "source": [
        "from google.colab import drive\n",
        "drive.mount('/content/drive', force_remount=True)"
      ],
      "execution_count": null,
      "outputs": [
        {
          "output_type": "stream",
          "text": [
            "Mounted at /content/drive\n"
          ],
          "name": "stdout"
        }
      ]
    },
    {
      "cell_type": "code",
      "metadata": {
        "id": "-M_vbGKAK2KS"
      },
      "source": [
        "#sólo clonarlo la primera vez, descomentando esto\n",
        "#%cd /content/drive/My Drive/\n",
        "\n",
        "#! git clone https://github.com/jgottling/2c2020-tp2ia-dataset.git\n",
        "\n",
        "\n"
      ],
      "execution_count": null,
      "outputs": []
    },
    {
      "cell_type": "code",
      "metadata": {
        "id": "HelkeZfxKjtx"
      },
      "source": [
        "#actualizar el dataset\n",
        "#%cd /content/drive/My Drive/2c2020-tp2ia-dataset\n",
        "\n",
        "#! git pull"
      ],
      "execution_count": null,
      "outputs": []
    },
    {
      "cell_type": "markdown",
      "metadata": {
        "id": "LtUOGuSWq2gT"
      },
      "source": [
        "#### 1. Install tensorflow dependency"
      ]
    },
    {
      "cell_type": "code",
      "metadata": {
        "id": "2dmrQi-z1pVF",
        "outputId": "01a10f3f-f1fa-4160-9390-8795ad60b152",
        "colab": {
          "base_uri": "https://localhost:8080/"
        }
      },
      "source": [
        "!pip install tensorflow\n"
      ],
      "execution_count": null,
      "outputs": [
        {
          "output_type": "stream",
          "text": [
            "shell-init: error retrieving current directory: getcwd: cannot access parent directories: Transport endpoint is not connected\n",
            "shell-init: error retrieving current directory: getcwd: cannot access parent directories: Transport endpoint is not connected\n",
            "The folder you are executing pip from can no longer be found.\n"
          ],
          "name": "stdout"
        }
      ]
    },
    {
      "cell_type": "markdown",
      "metadata": {
        "id": "Jcrrp5O_vHT-"
      },
      "source": [
        "#### 2. Import dependencies"
      ]
    },
    {
      "cell_type": "code",
      "metadata": {
        "id": "msF5aE7Bvey6"
      },
      "source": [
        "import matplotlib.pyplot as plt\n",
        "import numpy as np\n",
        "import os\n",
        "import PIL\n",
        "import tensorflow as tf\n",
        "import tensorflow_datasets as tfds\n",
        "\n",
        "import seaborn as sn; sn.set(font_scale=1.4)\n",
        "from sklearn.utils import shuffle           \n",
        "import cv2                                 \n",
        "from tqdm import tqdm\n",
        "\n",
        "from skimage.io import imread\n",
        "from keras.layers import Input, Dense\n",
        "\n",
        "from tensorflow import keras\n",
        "from tensorflow.keras import layers\n",
        "from tensorflow.keras.datasets import mnist\n",
        "from tensorflow.keras.models import Sequential\n",
        "from skimage import transform\n",
        "from skimage.color import rgb2gray\n",
        "from collections import Counter\n",
        "from keras.utils import plot_model\n",
        "from keras.models import Model\n",
        "from keras.preprocessing.image import ImageDataGenerator\n",
        "\n",
        "from sklearn.metrics import confusion_matrix, classification_report, accuracy_score\n",
        "from sklearn.preprocessing import LabelEncoder\n",
        "\n",
        "from PIL import Image\n",
        "\n",
        "import pandas as pd"
      ],
      "execution_count": null,
      "outputs": []
    },
    {
      "cell_type": "markdown",
      "metadata": {
        "id": "BDAu718xR7Kr"
      },
      "source": [
        "#### 3. Parameters"
      ]
    },
    {
      "cell_type": "code",
      "metadata": {
        "id": "40dwp1VhSCdV"
      },
      "source": [
        "# Segun la posicion se asocian al nro de carpeta. \n",
        "# Carpeta 0 equivale a posicion 0 de este array es decir al betta.\n",
        "classNames = ['Betta macho', 'Blue tang', 'Botia payaso', 'Cola de espada macho', 'Disco','Payaso']\n",
        "\n",
        "classNamesLabel = {classNames:i for i, classNames in enumerate(classNames)}\n",
        "nbClasses = len(classNames)\n",
        "imageSize = (32, 32)\n",
        "\n",
        "imageShape = (32, 32)\n",
        "inputLayer = imageShape[0] * imageShape[1]\n",
        "outputLayer = f'{len(classNames)}'\n",
        "hiddenLayers = [512, 64, 128, 64]\n",
        "epochs = 500\n",
        "batchSize = 64\n",
        "learningRate = 0.0001"
      ],
      "execution_count": null,
      "outputs": []
    },
    {
      "cell_type": "markdown",
      "metadata": {
        "id": "eJCGrz2V4rSN"
      },
      "source": [
        "#### 4. Define auxiliar functions"
      ]
    },
    {
      "cell_type": "markdown",
      "metadata": {
        "id": "ZaeUjFp4UwRk"
      },
      "source": [
        "##### loadData"
      ]
    },
    {
      "cell_type": "code",
      "metadata": {
        "id": "rbHTJL524rSN"
      },
      "source": [
        "def loadData(data_directory):\n",
        "    directories = [d for d in os.listdir(data_directory) \n",
        "                   if os.path.isdir(os.path.join(data_directory, d))]\n",
        "    labels = []\n",
        "    images = []\n",
        "    label_index = 0\n",
        "    for d in directories:\n",
        "        label_directory = os.path.join(data_directory, d)\n",
        "        file_names = [os.path.join(label_directory, f) \n",
        "                      for f in os.listdir(label_directory) \n",
        "                      if (f.endswith(\".jpg\") or f.endswith(\".jpeg\"))]\n",
        "        for f in file_names:\n",
        "            np.array(f)\n",
        "            images.append(imread(f))\n",
        "            labels.append(label_index)\n",
        "        label_index = label_index + 1\n",
        "    return np.array(images), np.array(labels)\n"
      ],
      "execution_count": null,
      "outputs": []
    },
    {
      "cell_type": "markdown",
      "metadata": {
        "id": "h9mlD--lUziz"
      },
      "source": [
        "##### showImages"
      ]
    },
    {
      "cell_type": "code",
      "metadata": {
        "id": "tiB-3f5oU2Nr"
      },
      "source": [
        "def showImages(images, classWithQuantity):\n",
        "  total = 0\n",
        "  fig = plt.figure(figsize=(50, 50))\n",
        "  for i in range(len(classNames)):\n",
        "    nameIndex, quantity = classWithQuantity[i]\n",
        "    plt.subplot(2, 6, 1 + i)\n",
        "    plt.axis('off')\n",
        "    plt.imshow(images[total],  cmap=\"gray\")\n",
        "    plt.title(classNames[nameIndex], fontsize = 50)\n",
        "    total = total + quantity"
      ],
      "execution_count": null,
      "outputs": []
    },
    {
      "cell_type": "markdown",
      "metadata": {
        "id": "DTTqIxrfVgzp"
      },
      "source": [
        "##### plotConfusionMatrix"
      ]
    },
    {
      "cell_type": "code",
      "metadata": {
        "id": "ymMukt3hVikQ"
      },
      "source": [
        "def plotConfusionMatrix(cm, classes,\n",
        "                          normalize=False,\n",
        "                          cmap=plt.cm.Blues):\n",
        "    \"\"\"\n",
        "    This function prints and plots the confusion matrix.\n",
        "    Normalization can be applied by setting `normalize=True`.\n",
        "    \"\"\"\n",
        "    if normalize:\n",
        "        cm = cm.astype('float') / cm.sum(axis=1)[:, np.newaxis]\n",
        "        title='Normalized confusion matrix'\n",
        "    else:\n",
        "        title='Confusion matrix'\n",
        "\n",
        "    plt.imshow(cm, interpolation='nearest', cmap=cmap)\n",
        "    plt.title(title)\n",
        "    plt.colorbar()\n",
        "    tick_marks = np.arange(len(classes))\n",
        "    plt.xticks(tick_marks, classes, rotation=45)\n",
        "    plt.yticks(tick_marks, classes)\n",
        "\n",
        "    fmt = '.2f' if normalize else 'd'\n",
        "    thresh = cm.max() / 2.\n",
        "    for i, j in itertools.product(range(cm.shape[0]), range(cm.shape[1])):\n",
        "        plt.text(j, i, format(cm[i, j], fmt),\n",
        "                 horizontalalignment=\"center\",\n",
        "                 color=\"white\" if cm[i, j] > thresh else \"black\")\n",
        "\n",
        "    plt.tight_layout()\n",
        "    plt.ylabel('True label')\n",
        "    plt.xlabel('Predicted label')\n",
        "    plt.show()"
      ],
      "execution_count": null,
      "outputs": []
    },
    {
      "cell_type": "markdown",
      "metadata": {
        "id": "WnhJQ4dfVl3O"
      },
      "source": [
        "##### fullMulticastReport"
      ]
    },
    {
      "cell_type": "code",
      "metadata": {
        "id": "psNS1EmaVn2Y"
      },
      "source": [
        "## multiclass or binary report\n",
        "## If binary (sigmoid output), set binary parameter to True\n",
        "def fullMulticlassReport(model,\n",
        "                           x,\n",
        "                           y_true,\n",
        "                           batch_size=32,\n",
        "                           binary=False):\n",
        "\n",
        "    # 1. Transform one-hot encoded y_true into their class number\n",
        "    if not binary:\n",
        "        y_true = np.argmax(y_true,axis=1)\n",
        "    \n",
        "    # 2. Predict classes and stores in y_pred\n",
        "    y_pred = model.predict_classes(x, batch_size=batch_size)\n",
        "    \n",
        "    # 3. Print accuracy score\n",
        "    print(\"Accuracy : \"+ str(accuracy_score(y_true,y_pred)))\n",
        "    \n",
        "    print(\"\")\n",
        "    \n",
        "    # 4. Print classification report\n",
        "    print(\"Classification Report\")\n",
        "    print(classification_report(y_true,y_pred,digits=5))    \n",
        "    \n",
        "    # 5. Plot confusion matrix\n",
        "    cnf_matrix = confusion_matrix(y_true,y_pred)\n",
        "    print(cnf_matrix)\n",
        "    #plotConfusionMatrix(cnf_matrix,classes=classes)"
      ],
      "execution_count": null,
      "outputs": []
    },
    {
      "cell_type": "markdown",
      "metadata": {
        "id": "XO_ZkZLcV3xg"
      },
      "source": [
        "##### plotHistory"
      ]
    },
    {
      "cell_type": "code",
      "metadata": {
        "id": "k51Ov_RQV5vo"
      },
      "source": [
        "def plotHistory(history):\n",
        "    loss_list = [s for s in history.history.keys() if 'loss' in s and 'val' not in s]\n",
        "    val_loss_list = [s for s in history.history.keys() if 'loss' in s and 'val' in s]\n",
        "    acc_list = [s for s in history.history.keys() if 'acc' in s and 'val' not in s]\n",
        "    val_acc_list = [s for s in history.history.keys() if 'acc' in s and 'val' in s]\n",
        "    \n",
        "    if len(loss_list) == 0:\n",
        "        print('Loss is missing in history')\n",
        "        return \n",
        "    \n",
        "    ## As loss always exists\n",
        "    epochs = range(1,len(history.history[loss_list[0]]) + 1)\n",
        "    \n",
        "    ## Loss\n",
        "    plt.figure(1)\n",
        "    for l in loss_list:\n",
        "        plt.plot(epochs, history.history[l], 'b', label='Training loss (' + str(str(format(history.history[l][-1],'.5f'))+')'))\n",
        "    for l in val_loss_list:\n",
        "        plt.plot(epochs, history.history[l], 'g', label='Validation loss (' + str(str(format(history.history[l][-1],'.5f'))+')'))\n",
        "    \n",
        "    plt.title('Loss')\n",
        "    plt.xlabel('Epochs')\n",
        "    plt.ylabel('Loss')\n",
        "    plt.legend()\n",
        "    \n",
        "    ## Accuracy\n",
        "    plt.figure(2)\n",
        "    for l in acc_list:\n",
        "        plt.plot(epochs, history.history[l], 'b', label='Training accuracy (' + str(format(history.history[l][-1],'.5f'))+')')\n",
        "    for l in val_acc_list:    \n",
        "        plt.plot(epochs, history.history[l], 'g', label='Validation accuracy (' + str(format(history.history[l][-1],'.5f'))+')')\n",
        "\n",
        "    plt.title('Accuracy')\n",
        "    plt.xlabel('Epochs')\n",
        "    plt.ylabel('Accuracy')\n",
        "    plt.legend()\n",
        "    plt.show()"
      ],
      "execution_count": null,
      "outputs": []
    },
    {
      "cell_type": "markdown",
      "metadata": {
        "id": "fO9Tx1ny8Mgk"
      },
      "source": [
        "##### plotAccuracyLoss"
      ]
    },
    {
      "cell_type": "code",
      "metadata": {
        "id": "X_VLubJ98Jrp"
      },
      "source": [
        "def plotAccuracyLoss(history):\n",
        "    fig = plt.figure(figsize=(10,5))\n",
        "\n",
        "    # Plot accuracy\n",
        "    plt.subplot(221)\n",
        "    plt.plot(history.history['accuracy'],'bo--', label = \"accuracy\")\n",
        "    plt.plot(history.history['val_accuracy'], 'ro--', label = \"val_accuracy\")\n",
        "    plt.title(\"train_acc vs val_accuracy\")\n",
        "    plt.ylabel(\"accuracy\")\n",
        "    plt.xlabel(\"epochs\")\n",
        "    plt.legend()\n",
        "\n",
        "    # Plot loss function\n",
        "    plt.subplot(222)\n",
        "    plt.plot(history.history['loss'],'bo--', label = \"loss\")\n",
        "    plt.plot(history.history['val_loss'], 'ro--', label = \"val_loss\")\n",
        "    plt.title(\"train_loss vs val_loss\")\n",
        "    plt.ylabel(\"loss\")\n",
        "    plt.xlabel(\"epochs\")\n",
        "\n",
        "    plt.legend()\n",
        "    plt.show()"
      ],
      "execution_count": null,
      "outputs": []
    },
    {
      "cell_type": "markdown",
      "metadata": {
        "id": "CKqxm9q0N_4I"
      },
      "source": [
        "##### plotImage"
      ]
    },
    {
      "cell_type": "code",
      "metadata": {
        "id": "E_UpgoLQN6BP"
      },
      "source": [
        "def plotImage(i, predictions_array, true_label, img):\n",
        "  predictions_array, true_label, img = predictions_array, true_label[i], img[i]\n",
        "  plt.grid(False)\n",
        "  plt.xticks([])\n",
        "  plt.yticks([])\n",
        "\n",
        "  plt.imshow(img, cmap=plt.cm.binary)\n",
        "\n",
        "  predicted_label = np.argmax(predictions_array)\n",
        "  if predicted_label == true_label:\n",
        "    color = 'blue'\n",
        "  else:\n",
        "    color = 'red'\n",
        "\n",
        "  plt.xlabel(\"{} {:2.0f}% ({})\".format(classNames[predicted_label],\n",
        "                                100*np.max(predictions_array),\n",
        "                                classNames[true_label]),\n",
        "                                color=color)"
      ],
      "execution_count": null,
      "outputs": []
    },
    {
      "cell_type": "markdown",
      "metadata": {
        "id": "h---wuslOWbx"
      },
      "source": [
        "##### plotValueArray"
      ]
    },
    {
      "cell_type": "code",
      "metadata": {
        "id": "hqdF_GaTN8aO"
      },
      "source": [
        "def plotValueArray(i, predictions_array, true_label):\n",
        "  predictions_array, true_label = predictions_array, true_label[i]\n",
        "  plt.grid(False)\n",
        "  plt.xticks(range(10))\n",
        "  plt.yticks([])\n",
        "  thisplot = plt.bar(range(6), predictions_array, color=\"#777777\")\n",
        "  plt.ylim([0, 1])\n",
        "  predicted_label = np.argmax(predictions_array)\n",
        "\n",
        "  thisplot[predicted_label].set_color('red')\n",
        "  thisplot[true_label].set_color('blue')"
      ],
      "execution_count": null,
      "outputs": []
    },
    {
      "cell_type": "markdown",
      "metadata": {
        "id": "3Tl_D5U0OSuV"
      },
      "source": [
        "##### plot"
      ]
    },
    {
      "cell_type": "code",
      "metadata": {
        "id": "nwf5OwmxN9sG"
      },
      "source": [
        "def plot(predictions, test_labels, test_images):\n",
        "  for i in range(len(predictions)):\n",
        "    plt.figure(figsize=(6,3))\n",
        "    plt.subplot(1,2,1)\n",
        "    plotImage(i, predictions[i], test_labels, test_images)\n",
        "    plt.subplot(1,2,2)\n",
        "    plotValueArray(i, predictions[i],  test_labels)\n",
        "    plt.show()"
      ],
      "execution_count": null,
      "outputs": []
    },
    {
      "cell_type": "markdown",
      "metadata": {
        "id": "Fr2BE4rVTFRw"
      },
      "source": [
        "##### printMislabeledImages"
      ]
    },
    {
      "cell_type": "code",
      "metadata": {
        "id": "cdfuq0ukTD__"
      },
      "source": [
        "def printMislabeledImages(class_names, test_images, test_labels, pred_labels):\n",
        "    BOO = (test_labels == pred_labels)\n",
        "    mislabeled_indices = np.where(BOO == 0)\n",
        "    mislabeled_images = test_images[mislabeled_indices]\n",
        "    mislabeled_labels = pred_labels[mislabeled_indices]\n",
        "\n",
        "    title = \"Some examples of mislabeled images by the classifier:\"\n",
        "    display_examples(class_names,  mislabeled_images, mislabeled_labels, title)"
      ],
      "execution_count": null,
      "outputs": []
    },
    {
      "cell_type": "markdown",
      "metadata": {
        "id": "kCudOysxTdup"
      },
      "source": [
        "##### confusionMatrix"
      ]
    },
    {
      "cell_type": "code",
      "metadata": {
        "id": "Zgl2z2XsTcbE"
      },
      "source": [
        "def confusionMatrix(test_labels, pred_labels):\n",
        "  CM = confusion_matrix(test_labels, pred_labels)\n",
        "  ax = plt.axes()\n",
        "  sn.heatmap(CM, annot=True, \n",
        "           annot_kws={\"size\": 10}, \n",
        "           xticklabels=classNames, \n",
        "           yticklabels=classNames, ax = ax)\n",
        "  ax.set_title('Confusion matrix')\n",
        "  plt.show()"
      ],
      "execution_count": null,
      "outputs": []
    },
    {
      "cell_type": "markdown",
      "metadata": {
        "id": "5rK9EuTWUjDZ"
      },
      "source": [
        "##### displayExamples"
      ]
    },
    {
      "cell_type": "code",
      "metadata": {
        "id": "CLw0xjOGUhbB"
      },
      "source": [
        "def displayExamples(class_names, images, labels, title):\n",
        "    fig = plt.figure(figsize=(10,10))\n",
        "    fig.suptitle(title, fontsize=16)\n",
        "    for i in range(25):\n",
        "        plt.subplot(5,5,i+1)\n",
        "        plt.xticks([])\n",
        "        plt.yticks([])\n",
        "        plt.grid(False)\n",
        "        plt.imshow(images[i], cmap=plt.cm.binary)\n",
        "        plt.xlabel(class_names[labels[i]])\n",
        "    plt.show()"
      ],
      "execution_count": null,
      "outputs": []
    },
    {
      "cell_type": "markdown",
      "metadata": {
        "id": "igKfcx7ZUsiC"
      },
      "source": [
        "##### displayRandomImage"
      ]
    },
    {
      "cell_type": "code",
      "metadata": {
        "id": "DadK61tMUrfG"
      },
      "source": [
        "def displayRandomImage(class_names, images, labels):\n",
        "    index = np.random.randint(images.shape[0])\n",
        "    plt.figure()\n",
        "    plt.imshow(images[index])\n",
        "    plt.xticks([])\n",
        "    plt.yticks([])\n",
        "    plt.grid(False)\n",
        "    plt.title('Image #{} : '.format(index) + class_names[labels[index]])\n",
        "    plt.show()"
      ],
      "execution_count": null,
      "outputs": []
    },
    {
      "cell_type": "markdown",
      "metadata": {
        "id": "qTBAKR6Q4rDv"
      },
      "source": [
        "#### 5. Load & Show training data & testing data\n"
      ]
    },
    {
      "cell_type": "code",
      "metadata": {
        "id": "PHxuNkVb41i_"
      },
      "source": [
        "ROOT_PATH = \"/content/drive/My Drive/2c2020-tp2ia-dataset\"\n",
        "train_data_directory = os.path.join(ROOT_PATH, \"training\")\n",
        "test_data_directory = os.path.join(ROOT_PATH, \"testing\")\n",
        "\n",
        "train_images, train_labels = loadData(train_data_directory)\n",
        "test_images, test_labels = loadData(test_data_directory)"
      ],
      "execution_count": null,
      "outputs": []
    },
    {
      "cell_type": "code",
      "metadata": {
        "id": "PbCBasTCVDLe"
      },
      "source": [
        "# Muestro ejemplos de entrenamiento\n",
        "values, counts = np.unique(train_labels, return_counts = True)\n",
        "classWithQuantityTrain = list(zip(values, counts))\n",
        "total = 0\n",
        "\n",
        "print(\"Training Examples\")\n",
        "for nameIndex, quantity in classWithQuantityTrain:\n",
        "  print(classNames[nameIndex], \"example from total\", quantity)\n",
        "  display(Image.fromarray(train_images[total], 'RGB'))\n",
        "  total = total + quantity\n",
        "\n",
        "# Muestro ejemplos de testing\n",
        "values, counts = np.unique(test_labels, return_counts = True)\n",
        "classWithQuantityTest = list(zip(values, counts))\n",
        "total = 0\n",
        "\n",
        "print(\"Testing Examples\")\n",
        "for nameIndex, quantity in classWithQuantityTest:\n",
        "  print(classNames[nameIndex], \"example from total\", quantity)\n",
        "  display(Image.fromarray(test_images[total], 'RGB'))\n",
        "  total = total + quantity"
      ],
      "execution_count": null,
      "outputs": []
    },
    {
      "cell_type": "code",
      "metadata": {
        "id": "lHQhluLn16GY"
      },
      "source": [
        "_, train_counts = np.unique(train_labels, return_counts=True)\n",
        "_, test_counts = np.unique(test_labels, return_counts=True)\n",
        "pd.DataFrame({'train': train_counts, 'test': test_counts}, \n",
        "             index=classNames).plot.bar()\n",
        "plt.show()"
      ],
      "execution_count": null,
      "outputs": []
    },
    {
      "cell_type": "code",
      "metadata": {
        "id": "tEQUglce2Qem"
      },
      "source": [
        "plt.pie(train_counts,\n",
        "        explode=(0, 0, 0, 0, 0, 0) , \n",
        "        labels=classNames,\n",
        "        autopct='%1.1f%%')\n",
        "plt.axis('equal')\n",
        "plt.title('Proportion of each observed category')\n",
        "plt.show()"
      ],
      "execution_count": null,
      "outputs": []
    },
    {
      "cell_type": "code",
      "metadata": {
        "id": "zwyHhlhmIaGu"
      },
      "source": [
        "plt.pie(test_counts,\n",
        "        explode=(0, 0, 0, 0, 0, 0) , \n",
        "        labels=classNames,\n",
        "        autopct='%1.1f%%')\n",
        "plt.axis('equal')\n",
        "plt.show()"
      ],
      "execution_count": null,
      "outputs": []
    },
    {
      "cell_type": "code",
      "metadata": {
        "id": "If2yEzCI2Z22"
      },
      "source": [
        "displayRandomImage(classNames, train_images, train_labels)"
      ],
      "execution_count": null,
      "outputs": []
    },
    {
      "cell_type": "code",
      "metadata": {
        "id": "5yWw5r6s2n5N"
      },
      "source": [
        "train_images_shuffle, train_labels_shuffle = shuffle(train_images, train_labels, random_state=25)\n",
        "\n",
        "displayExamples(classNames, train_images_shuffle, train_labels_shuffle, \"Some examples of images of the dataset\")"
      ],
      "execution_count": null,
      "outputs": []
    },
    {
      "cell_type": "code",
      "metadata": {
        "id": "iSLlRgD5GPXr"
      },
      "source": [
        "train_images_shuffle, train_labels_shuffle = shuffle(test_images, test_labels, random_state=25)\n",
        "\n",
        "displayExamples(classNames, train_images_shuffle, train_labels_shuffle, \"Some examples of images of the dataset\")"
      ],
      "execution_count": null,
      "outputs": []
    },
    {
      "cell_type": "markdown",
      "metadata": {
        "id": "CleisGIS5R71"
      },
      "source": [
        "#### 6. Pre-processing data\n"
      ]
    },
    {
      "cell_type": "code",
      "metadata": {
        "id": "3NV_Mh6Mv6ry"
      },
      "source": [
        "# Convierto a blanco y negro; y cambio el tamaño\n",
        "train_images32 = [transform.resize(image, (32,32)) for image in train_images]\n",
        "train_images32 = np.array(train_images32)\n",
        "test_images32 = [transform.resize(image, (32,32)) for image in test_images]\n",
        "test_images32 = np.array(test_images32)\n",
        "\n",
        "train_images_gray = rgb2gray(train_images32)\n",
        "test_images_gray = rgb2gray(test_images32)"
      ],
      "execution_count": null,
      "outputs": []
    },
    {
      "cell_type": "code",
      "metadata": {
        "id": "9q6yK8PfwDjJ",
        "outputId": "cc610c91-6024-45f3-b751-8516c21bc1c7",
        "colab": {
          "base_uri": "https://localhost:8080/",
          "height": 51
        }
      },
      "source": [
        "print(f\"{train_images_gray.shape[0]} training images found in {train_images_gray.shape[1]}x{train_images_gray.shape[2]}\")\n",
        "print(f\"{test_images_gray.shape[0]} testing images found in {test_images_gray.shape[1]}x{test_images_gray.shape[2]}\")"
      ],
      "execution_count": null,
      "outputs": [
        {
          "output_type": "stream",
          "text": [
            "805 training images found in 32x32\n",
            "274 testing images found in 32x32\n"
          ],
          "name": "stdout"
        }
      ]
    },
    {
      "cell_type": "code",
      "metadata": {
        "id": "pz9iXbE0F3Pu",
        "outputId": "3aa46803-baed-4bcd-e3fc-dc5ade50ea4f",
        "colab": {
          "base_uri": "https://localhost:8080/",
          "height": 288
        }
      },
      "source": [
        "showImages(train_images_gray, classWithQuantityTrain)\n",
        "showImages(test_images_gray, classWithQuantityTest)"
      ],
      "execution_count": null,
      "outputs": [
        {
          "output_type": "display_data",
          "data": {
            "image/png": "[encoded data removed]",
            "text/plain": [
              "<Figure size 3600x3600 with 6 Axes>"
            ]
          },
          "metadata": {
            "tags": []
          }
        },
        {
          "output_type": "display_data",
          "data": {
            "image/png": "[encoded data removed]",
            "text/plain": [
              "<Figure size 3600x3600 with 6 Axes>"
            ]
          },
          "metadata": {
            "tags": []
          }
        }
      ]
    },
    {
      "cell_type": "markdown",
      "metadata": {
        "id": "XEenBPOQOi4a"
      },
      "source": [
        "#### 7. Model construction"
      ]
    },
    {
      "cell_type": "code",
      "metadata": {
        "id": "VQhjCqFxOnSw",
        "outputId": "43893f6c-29ce-4472-b96a-215af9dc1602",
        "colab": {
          "base_uri": "https://localhost:8080/",
          "height": 1000
        }
      },
      "source": [
        "model = keras.Sequential([\n",
        "    keras.layers.Flatten(input_shape = imageShape, name = \"input\"),\n",
        "    keras.layers.Dense(hiddenLayers[0], activation='relu', name = \"hidden1\"),\n",
        "    keras.layers.Dense(hiddenLayers[1], activation='relu', name = \"hidden2\"),\n",
        "    keras.layers.Dense(hiddenLayers[2], activation='relu', name = \"hidden3\"),\n",
        "    #keras.layers.Dense(hiddenLayers[3], activation='relu', name = \"hidden4\"),\n",
        "    keras.layers.Dropout(0.3, name=\"dropout\"),\n",
        "    keras.layers.Dense(outputLayer, activation='softmax', name=\"output\")\n",
        "])\n",
        "\n",
        "model.compile(#optimizer=\"adam\", \n",
        "              keras.optimizers.Adam(lr=learningRate, decay=learningRate / 100),\n",
        "              loss=tf.keras.losses.SparseCategoricalCrossentropy(from_logits=True),\n",
        "              metrics=[\"accuracy\"])\n",
        "\n",
        "model.summary()\n",
        "plot_model(model, show_layer_names=True, show_shapes=True)"
      ],
      "execution_count": null,
      "outputs": [
        {
          "output_type": "stream",
          "text": [
            "ERROR:root:Internal Python error in the inspect module.\n",
            "Below is the traceback from this internal error.\n",
            "\n"
          ],
          "name": "stderr"
        },
        {
          "output_type": "stream",
          "text": [
            "Model: \"sequential_23\"\n",
            "_________________________________________________________________\n",
            "Layer (type)                 Output Shape              Param #   \n",
            "=================================================================\n",
            "input (Flatten)              (None, 1024)              0         \n",
            "_________________________________________________________________\n",
            "hidden1 (Dense)              (None, 512)               524800    \n",
            "_________________________________________________________________\n",
            "hidden2 (Dense)              (None, 64)                32832     \n",
            "_________________________________________________________________\n",
            "hidden3 (Dense)              (None, 128)               8320      \n",
            "_________________________________________________________________\n",
            "dropout (Dropout)            (None, 128)               0         \n",
            "_________________________________________________________________\n",
            "output (Dense)               (None, 6)                 774       \n",
            "=================================================================\n",
            "Total params: 566,726\n",
            "Trainable params: 566,726\n",
            "Non-trainable params: 0\n",
            "_________________________________________________________________\n",
            "Traceback (most recent call last):\n",
            "  File \"/usr/local/lib/python3.6/dist-packages/IPython/core/interactiveshell.py\", line 2882, in run_code\n",
            "    exec(code_obj, self.user_global_ns, self.user_ns)\n",
            "  File \"<ipython-input-211-477ffbb3de5b>\", line 17, in <module>\n",
            "    plot_model(model, show_layer_names=True, show_shapes=True)\n",
            "  File \"/usr/local/lib/python3.6/dist-packages/tensorflow/python/keras/utils/vis_utils.py\", line 316, in plot_model\n",
            "    dot.write(to_file, format=extension)\n",
            "  File \"/usr/local/lib/python3.6/dist-packages/pydot_ng/__init__.py\", line 1755, in write\n",
            "    fobj, close = get_fobj(path, 'w+b')\n",
            "  File \"/usr/local/lib/python3.6/dist-packages/pydot_ng/__init__.py\", line 136, in get_fobj\n",
            "    fobj = open(fname, mode)\n",
            "OSError: [Errno 107] Transport endpoint is not connected: 'model.png'\n",
            "\n",
            "During handling of the above exception, another exception occurred:\n",
            "\n",
            "Traceback (most recent call last):\n",
            "  File \"/usr/local/lib/python3.6/dist-packages/IPython/core/interactiveshell.py\", line 1823, in showtraceback\n",
            "    stb = value._render_traceback_()\n",
            "AttributeError: 'OSError' object has no attribute '_render_traceback_'\n",
            "\n",
            "During handling of the above exception, another exception occurred:\n",
            "\n",
            "Traceback (most recent call last):\n",
            "  File \"/usr/local/lib/python3.6/dist-packages/IPython/core/ultratb.py\", line 1132, in get_records\n",
            "    return _fixed_getinnerframes(etb, number_of_lines_of_context, tb_offset)\n",
            "  File \"/usr/local/lib/python3.6/dist-packages/IPython/core/ultratb.py\", line 313, in wrapped\n",
            "    return f(*args, **kwargs)\n",
            "  File \"/usr/local/lib/python3.6/dist-packages/IPython/core/ultratb.py\", line 358, in _fixed_getinnerframes\n",
            "    records = fix_frame_records_filenames(inspect.getinnerframes(etb, context))\n",
            "  File \"/usr/lib/python3.6/inspect.py\", line 1490, in getinnerframes\n",
            "    frameinfo = (tb.tb_frame,) + getframeinfo(tb, context)\n",
            "  File \"/usr/lib/python3.6/inspect.py\", line 1448, in getframeinfo\n",
            "    filename = getsourcefile(frame) or getfile(frame)\n",
            "  File \"/usr/lib/python3.6/inspect.py\", line 696, in getsourcefile\n",
            "    if getattr(getmodule(object, filename), '__loader__', None) is not None:\n",
            "  File \"/usr/lib/python3.6/inspect.py\", line 725, in getmodule\n",
            "    file = getabsfile(object, _filename)\n",
            "  File \"/usr/lib/python3.6/inspect.py\", line 709, in getabsfile\n",
            "    return os.path.normcase(os.path.abspath(_filename))\n",
            "  File \"/usr/lib/python3.6/posixpath.py\", line 383, in abspath\n",
            "    cwd = os.getcwd()\n",
            "OSError: [Errno 107] Transport endpoint is not connected\n"
          ],
          "name": "stdout"
        },
        {
          "output_type": "error",
          "ename": "OSError",
          "evalue": "ignored",
          "traceback": [
            "\u001b[0;31m---------------------------------------------------------------------------\u001b[0m"
          ]
        }
      ]
    },
    {
      "cell_type": "markdown",
      "metadata": {
        "id": "y1tgErpAQG8e"
      },
      "source": [
        "#### 8. Model training"
      ]
    },
    {
      "cell_type": "code",
      "metadata": {
        "id": "ldIKboxaWOpx",
        "outputId": "5c70adc1-e6ff-477d-92fb-b13cb7cb29ec",
        "colab": {
          "base_uri": "https://localhost:8080/",
          "height": 1000
        }
      },
      "source": [
        "history = model.fit(np.array(train_images_gray), \n",
        "                    train_labels,\n",
        "                    batch_size = batchSize,\n",
        "                    epochs = epochs)"
      ],
      "execution_count": null,
      "outputs": [
        {
          "output_type": "stream",
          "text": [
            "Epoch 1/500\n",
            "13/13 [==============================] - 0s 2ms/step - loss: 1.7129 - accuracy: 0.3056\n",
            "Epoch 2/500\n",
            "13/13 [==============================] - 0s 3ms/step - loss: 1.6846 - accuracy: 0.3267\n",
            "Epoch 3/500\n",
            "13/13 [==============================] - 0s 3ms/step - loss: 1.6693 - accuracy: 0.3329\n",
            "Epoch 4/500\n",
            "13/13 [==============================] - 0s 3ms/step - loss: 1.6459 - accuracy: 0.3826\n",
            "Epoch 5/500\n",
            "13/13 [==============================] - 0s 3ms/step - loss: 1.6333 - accuracy: 0.4112\n",
            "Epoch 6/500\n",
            "13/13 [==============================] - 0s 2ms/step - loss: 1.5835 - accuracy: 0.4522\n",
            "Epoch 7/500\n",
            "13/13 [==============================] - 0s 2ms/step - loss: 1.5553 - accuracy: 0.4957\n",
            "Epoch 8/500\n",
            "13/13 [==============================] - 0s 3ms/step - loss: 1.5600 - accuracy: 0.4820\n",
            "Epoch 9/500\n",
            "13/13 [==============================] - 0s 2ms/step - loss: 1.5289 - accuracy: 0.5093\n",
            "Epoch 10/500\n",
            "13/13 [==============================] - 0s 2ms/step - loss: 1.5290 - accuracy: 0.5118\n",
            "Epoch 11/500\n",
            "13/13 [==============================] - 0s 2ms/step - loss: 1.5425 - accuracy: 0.4944\n",
            "Epoch 12/500\n",
            "13/13 [==============================] - 0s 2ms/step - loss: 1.5090 - accuracy: 0.5304\n",
            "Epoch 13/500\n",
            "13/13 [==============================] - 0s 2ms/step - loss: 1.5002 - accuracy: 0.5354\n",
            "Epoch 14/500\n",
            "13/13 [==============================] - 0s 2ms/step - loss: 1.4801 - accuracy: 0.5665\n",
            "Epoch 15/500\n",
            "13/13 [==============================] - 0s 2ms/step - loss: 1.5030 - accuracy: 0.5429\n",
            "Epoch 16/500\n",
            "13/13 [==============================] - 0s 2ms/step - loss: 1.4978 - accuracy: 0.5441\n",
            "Epoch 17/500\n",
            "13/13 [==============================] - 0s 3ms/step - loss: 1.4964 - accuracy: 0.5478\n",
            "Epoch 18/500\n",
            "13/13 [==============================] - 0s 2ms/step - loss: 1.4897 - accuracy: 0.5503\n",
            "Epoch 19/500\n",
            "13/13 [==============================] - 0s 2ms/step - loss: 1.4649 - accuracy: 0.5739\n",
            "Epoch 20/500\n",
            "13/13 [==============================] - 0s 2ms/step - loss: 1.4639 - accuracy: 0.5764\n",
            "Epoch 21/500\n",
            "13/13 [==============================] - 0s 2ms/step - loss: 1.4637 - accuracy: 0.5764\n",
            "Epoch 22/500\n",
            "13/13 [==============================] - 0s 2ms/step - loss: 1.4608 - accuracy: 0.5814\n",
            "Epoch 23/500\n",
            "13/13 [==============================] - 0s 2ms/step - loss: 1.4685 - accuracy: 0.5752\n",
            "Epoch 24/500\n",
            "13/13 [==============================] - 0s 2ms/step - loss: 1.4594 - accuracy: 0.5764\n",
            "Epoch 25/500\n",
            "13/13 [==============================] - 0s 2ms/step - loss: 1.4434 - accuracy: 0.5950\n",
            "Epoch 26/500\n",
            "13/13 [==============================] - 0s 2ms/step - loss: 1.4563 - accuracy: 0.5839\n",
            "Epoch 27/500\n",
            "13/13 [==============================] - 0s 2ms/step - loss: 1.4409 - accuracy: 0.6025\n",
            "Epoch 28/500\n",
            "13/13 [==============================] - 0s 2ms/step - loss: 1.4325 - accuracy: 0.6099\n",
            "Epoch 29/500\n",
            "13/13 [==============================] - 0s 3ms/step - loss: 1.4384 - accuracy: 0.6050\n",
            "Epoch 30/500\n",
            "13/13 [==============================] - 0s 3ms/step - loss: 1.4352 - accuracy: 0.6050\n",
            "Epoch 31/500\n",
            "13/13 [==============================] - 0s 2ms/step - loss: 1.4505 - accuracy: 0.5925\n",
            "Epoch 32/500\n",
            "13/13 [==============================] - 0s 2ms/step - loss: 1.4703 - accuracy: 0.5689\n",
            "Epoch 33/500\n",
            "13/13 [==============================] - 0s 2ms/step - loss: 1.4566 - accuracy: 0.5826\n",
            "Epoch 34/500\n",
            "13/13 [==============================] - 0s 2ms/step - loss: 1.4383 - accuracy: 0.6050\n",
            "Epoch 35/500\n",
            "13/13 [==============================] - 0s 2ms/step - loss: 1.4535 - accuracy: 0.5876\n",
            "Epoch 36/500\n",
            "13/13 [==============================] - 0s 2ms/step - loss: 1.4855 - accuracy: 0.5565\n",
            "Epoch 37/500\n",
            "13/13 [==============================] - 0s 2ms/step - loss: 1.4905 - accuracy: 0.5540\n",
            "Epoch 38/500\n",
            "13/13 [==============================] - 0s 2ms/step - loss: 1.4334 - accuracy: 0.6112\n",
            "Epoch 39/500\n",
            "13/13 [==============================] - 0s 2ms/step - loss: 1.4178 - accuracy: 0.6273\n",
            "Epoch 40/500\n",
            "13/13 [==============================] - 0s 2ms/step - loss: 1.4123 - accuracy: 0.6348\n",
            "Epoch 41/500\n",
            "13/13 [==============================] - 0s 2ms/step - loss: 1.4145 - accuracy: 0.6298\n",
            "Epoch 42/500\n",
            "13/13 [==============================] - 0s 2ms/step - loss: 1.4309 - accuracy: 0.6062\n",
            "Epoch 43/500\n",
            "13/13 [==============================] - 0s 2ms/step - loss: 1.4726 - accuracy: 0.5689\n",
            "Epoch 44/500\n",
            "13/13 [==============================] - 0s 2ms/step - loss: 1.4296 - accuracy: 0.6087\n",
            "Epoch 45/500\n",
            "13/13 [==============================] - 0s 2ms/step - loss: 1.4131 - accuracy: 0.6286\n",
            "Epoch 46/500\n",
            "13/13 [==============================] - 0s 2ms/step - loss: 1.4075 - accuracy: 0.6373\n",
            "Epoch 47/500\n",
            "13/13 [==============================] - 0s 2ms/step - loss: 1.3993 - accuracy: 0.6435\n",
            "Epoch 48/500\n",
            "13/13 [==============================] - 0s 2ms/step - loss: 1.3915 - accuracy: 0.6547\n",
            "Epoch 49/500\n",
            "13/13 [==============================] - 0s 2ms/step - loss: 1.4034 - accuracy: 0.6385\n",
            "Epoch 50/500\n",
            "13/13 [==============================] - 0s 2ms/step - loss: 1.4007 - accuracy: 0.6460\n",
            "Epoch 51/500\n",
            "13/13 [==============================] - 0s 2ms/step - loss: 1.4023 - accuracy: 0.6410\n",
            "Epoch 52/500\n",
            "13/13 [==============================] - 0s 2ms/step - loss: 1.3980 - accuracy: 0.6497\n",
            "Epoch 53/500\n",
            "13/13 [==============================] - 0s 3ms/step - loss: 1.4023 - accuracy: 0.6385\n",
            "Epoch 54/500\n",
            "13/13 [==============================] - 0s 2ms/step - loss: 1.4187 - accuracy: 0.6236\n",
            "Epoch 55/500\n",
            "13/13 [==============================] - 0s 2ms/step - loss: 1.4142 - accuracy: 0.6286\n",
            "Epoch 56/500\n",
            "13/13 [==============================] - 0s 2ms/step - loss: 1.4037 - accuracy: 0.6385\n",
            "Epoch 57/500\n",
            "13/13 [==============================] - 0s 2ms/step - loss: 1.3926 - accuracy: 0.6547\n",
            "Epoch 58/500\n",
            "13/13 [==============================] - 0s 2ms/step - loss: 1.3908 - accuracy: 0.6509\n",
            "Epoch 59/500\n",
            "13/13 [==============================] - 0s 3ms/step - loss: 1.3797 - accuracy: 0.6634\n",
            "Epoch 60/500\n",
            "13/13 [==============================] - 0s 3ms/step - loss: 1.3864 - accuracy: 0.6509\n",
            "Epoch 61/500\n",
            "13/13 [==============================] - 0s 2ms/step - loss: 1.3838 - accuracy: 0.6559\n",
            "Epoch 62/500\n",
            "13/13 [==============================] - 0s 2ms/step - loss: 1.3590 - accuracy: 0.6907\n",
            "Epoch 63/500\n",
            "13/13 [==============================] - 0s 2ms/step - loss: 1.3852 - accuracy: 0.6621\n",
            "Epoch 64/500\n",
            "13/13 [==============================] - 0s 2ms/step - loss: 1.3769 - accuracy: 0.6646\n",
            "Epoch 65/500\n",
            "13/13 [==============================] - 0s 2ms/step - loss: 1.3735 - accuracy: 0.6671\n",
            "Epoch 66/500\n",
            "13/13 [==============================] - 0s 2ms/step - loss: 1.3557 - accuracy: 0.6857\n",
            "Epoch 67/500\n",
            "13/13 [==============================] - 0s 2ms/step - loss: 1.3511 - accuracy: 0.6907\n",
            "Epoch 68/500\n",
            "13/13 [==============================] - 0s 2ms/step - loss: 1.3579 - accuracy: 0.6882\n",
            "Epoch 69/500\n",
            "13/13 [==============================] - 0s 2ms/step - loss: 1.3705 - accuracy: 0.6807\n",
            "Epoch 70/500\n",
            "13/13 [==============================] - 0s 2ms/step - loss: 1.4038 - accuracy: 0.6385\n",
            "Epoch 71/500\n",
            "13/13 [==============================] - 0s 2ms/step - loss: 1.3533 - accuracy: 0.6907\n",
            "Epoch 72/500\n",
            "13/13 [==============================] - 0s 2ms/step - loss: 1.3653 - accuracy: 0.6832\n",
            "Epoch 73/500\n",
            "13/13 [==============================] - 0s 3ms/step - loss: 1.4122 - accuracy: 0.6261\n",
            "Epoch 74/500\n",
            "13/13 [==============================] - 0s 2ms/step - loss: 1.3662 - accuracy: 0.6745\n",
            "Epoch 75/500\n",
            "13/13 [==============================] - 0s 2ms/step - loss: 1.3533 - accuracy: 0.6919\n",
            "Epoch 76/500\n",
            "13/13 [==============================] - 0s 2ms/step - loss: 1.3432 - accuracy: 0.7019\n",
            "Epoch 77/500\n",
            "13/13 [==============================] - 0s 2ms/step - loss: 1.3422 - accuracy: 0.7006\n",
            "Epoch 78/500\n",
            "13/13 [==============================] - 0s 3ms/step - loss: 1.3395 - accuracy: 0.7031\n",
            "Epoch 79/500\n",
            "13/13 [==============================] - 0s 3ms/step - loss: 1.3460 - accuracy: 0.6969\n",
            "Epoch 80/500\n",
            "13/13 [==============================] - 0s 2ms/step - loss: 1.3316 - accuracy: 0.7155\n",
            "Epoch 81/500\n",
            "13/13 [==============================] - 0s 2ms/step - loss: 1.3561 - accuracy: 0.6832\n",
            "Epoch 82/500\n",
            "13/13 [==============================] - 0s 2ms/step - loss: 1.3457 - accuracy: 0.6981\n",
            "Epoch 83/500\n",
            "13/13 [==============================] - 0s 2ms/step - loss: 1.3302 - accuracy: 0.7155\n",
            "Epoch 84/500\n",
            "13/13 [==============================] - 0s 3ms/step - loss: 1.3253 - accuracy: 0.7168\n",
            "Epoch 85/500\n",
            "13/13 [==============================] - 0s 3ms/step - loss: 1.3268 - accuracy: 0.7168\n",
            "Epoch 86/500\n",
            "13/13 [==============================] - 0s 3ms/step - loss: 1.3155 - accuracy: 0.7292\n",
            "Epoch 87/500\n",
            "13/13 [==============================] - 0s 3ms/step - loss: 1.3319 - accuracy: 0.7081\n",
            "Epoch 88/500\n",
            "13/13 [==============================] - 0s 2ms/step - loss: 1.3191 - accuracy: 0.7242\n",
            "Epoch 89/500\n",
            "13/13 [==============================] - 0s 2ms/step - loss: 1.3158 - accuracy: 0.7280\n",
            "Epoch 90/500\n",
            "13/13 [==============================] - 0s 2ms/step - loss: 1.3136 - accuracy: 0.7280\n",
            "Epoch 91/500\n",
            "13/13 [==============================] - 0s 2ms/step - loss: 1.3115 - accuracy: 0.7304\n",
            "Epoch 92/500\n",
            "13/13 [==============================] - 0s 2ms/step - loss: 1.3162 - accuracy: 0.7267\n",
            "Epoch 93/500\n",
            "13/13 [==============================] - 0s 2ms/step - loss: 1.3104 - accuracy: 0.7317\n",
            "Epoch 94/500\n",
            "13/13 [==============================] - 0s 2ms/step - loss: 1.3106 - accuracy: 0.7366\n",
            "Epoch 95/500\n",
            "13/13 [==============================] - 0s 2ms/step - loss: 1.3109 - accuracy: 0.7354\n",
            "Epoch 96/500\n",
            "13/13 [==============================] - 0s 2ms/step - loss: 1.3195 - accuracy: 0.7217\n",
            "Epoch 97/500\n",
            "13/13 [==============================] - 0s 2ms/step - loss: 1.3132 - accuracy: 0.7267\n",
            "Epoch 98/500\n",
            "13/13 [==============================] - 0s 2ms/step - loss: 1.3051 - accuracy: 0.7404\n",
            "Epoch 99/500\n",
            "13/13 [==============================] - 0s 2ms/step - loss: 1.3020 - accuracy: 0.7404\n",
            "Epoch 100/500\n",
            "13/13 [==============================] - 0s 2ms/step - loss: 1.2940 - accuracy: 0.7528\n",
            "Epoch 101/500\n",
            "13/13 [==============================] - 0s 2ms/step - loss: 1.3029 - accuracy: 0.7354\n",
            "Epoch 102/500\n",
            "13/13 [==============================] - 0s 2ms/step - loss: 1.3165 - accuracy: 0.7242\n",
            "Epoch 103/500\n",
            "13/13 [==============================] - 0s 2ms/step - loss: 1.3137 - accuracy: 0.7317\n",
            "Epoch 104/500\n",
            "13/13 [==============================] - 0s 2ms/step - loss: 1.3142 - accuracy: 0.7304\n",
            "Epoch 105/500\n",
            "13/13 [==============================] - 0s 2ms/step - loss: 1.3125 - accuracy: 0.7342\n",
            "Epoch 106/500\n",
            "13/13 [==============================] - 0s 2ms/step - loss: 1.3210 - accuracy: 0.7205\n",
            "Epoch 107/500\n",
            "13/13 [==============================] - 0s 2ms/step - loss: 1.3071 - accuracy: 0.7391\n",
            "Epoch 108/500\n",
            "13/13 [==============================] - 0s 2ms/step - loss: 1.3018 - accuracy: 0.7404\n",
            "Epoch 109/500\n",
            "13/13 [==============================] - 0s 3ms/step - loss: 1.3184 - accuracy: 0.7217\n",
            "Epoch 110/500\n",
            "13/13 [==============================] - 0s 2ms/step - loss: 1.3195 - accuracy: 0.7280\n",
            "Epoch 111/500\n",
            "13/13 [==============================] - 0s 2ms/step - loss: 1.3132 - accuracy: 0.7342\n",
            "Epoch 112/500\n",
            "13/13 [==============================] - 0s 2ms/step - loss: 1.3129 - accuracy: 0.7317\n",
            "Epoch 113/500\n",
            "13/13 [==============================] - 0s 3ms/step - loss: 1.3162 - accuracy: 0.7255\n",
            "Epoch 114/500\n",
            "13/13 [==============================] - 0s 2ms/step - loss: 1.2974 - accuracy: 0.7429\n",
            "Epoch 115/500\n",
            "13/13 [==============================] - 0s 3ms/step - loss: 1.3000 - accuracy: 0.7429\n",
            "Epoch 116/500\n",
            "13/13 [==============================] - 0s 3ms/step - loss: 1.3236 - accuracy: 0.7217\n",
            "Epoch 117/500\n",
            "13/13 [==============================] - 0s 3ms/step - loss: 1.3618 - accuracy: 0.6783\n",
            "Epoch 118/500\n",
            "13/13 [==============================] - 0s 3ms/step - loss: 1.3354 - accuracy: 0.7068\n",
            "Epoch 119/500\n",
            "13/13 [==============================] - 0s 3ms/step - loss: 1.3195 - accuracy: 0.7242\n",
            "Epoch 120/500\n",
            "13/13 [==============================] - 0s 3ms/step - loss: 1.3013 - accuracy: 0.7404\n",
            "Epoch 121/500\n",
            "13/13 [==============================] - 0s 2ms/step - loss: 1.3086 - accuracy: 0.7366\n",
            "Epoch 122/500\n",
            "13/13 [==============================] - 0s 2ms/step - loss: 1.3266 - accuracy: 0.7155\n",
            "Epoch 123/500\n",
            "13/13 [==============================] - 0s 2ms/step - loss: 1.2936 - accuracy: 0.7491\n",
            "Epoch 124/500\n",
            "13/13 [==============================] - 0s 2ms/step - loss: 1.3029 - accuracy: 0.7404\n",
            "Epoch 125/500\n",
            "13/13 [==============================] - 0s 2ms/step - loss: 1.3088 - accuracy: 0.7342\n",
            "Epoch 126/500\n",
            "13/13 [==============================] - 0s 2ms/step - loss: 1.3630 - accuracy: 0.6733\n",
            "Epoch 127/500\n",
            "13/13 [==============================] - 0s 2ms/step - loss: 1.3366 - accuracy: 0.7081\n",
            "Epoch 128/500\n",
            "13/13 [==============================] - 0s 2ms/step - loss: 1.3100 - accuracy: 0.7317\n",
            "Epoch 129/500\n",
            "13/13 [==============================] - 0s 2ms/step - loss: 1.3022 - accuracy: 0.7429\n",
            "Epoch 130/500\n",
            "13/13 [==============================] - 0s 2ms/step - loss: 1.2861 - accuracy: 0.7553\n",
            "Epoch 131/500\n",
            "13/13 [==============================] - 0s 2ms/step - loss: 1.2794 - accuracy: 0.7640\n",
            "Epoch 132/500\n",
            "13/13 [==============================] - 0s 2ms/step - loss: 1.2904 - accuracy: 0.7528\n",
            "Epoch 133/500\n",
            "13/13 [==============================] - 0s 2ms/step - loss: 1.2949 - accuracy: 0.7478\n",
            "Epoch 134/500\n",
            "13/13 [==============================] - 0s 2ms/step - loss: 1.2772 - accuracy: 0.7677\n",
            "Epoch 135/500\n",
            "13/13 [==============================] - 0s 2ms/step - loss: 1.2984 - accuracy: 0.7391\n",
            "Epoch 136/500\n",
            "13/13 [==============================] - 0s 2ms/step - loss: 1.2846 - accuracy: 0.7590\n",
            "Epoch 137/500\n",
            "13/13 [==============================] - 0s 3ms/step - loss: 1.2733 - accuracy: 0.7689\n",
            "Epoch 138/500\n",
            "13/13 [==============================] - 0s 3ms/step - loss: 1.2628 - accuracy: 0.7863\n",
            "Epoch 139/500\n",
            "13/13 [==============================] - 0s 3ms/step - loss: 1.2647 - accuracy: 0.7752\n",
            "Epoch 140/500\n",
            "13/13 [==============================] - 0s 2ms/step - loss: 1.2776 - accuracy: 0.7640\n",
            "Epoch 141/500\n",
            "13/13 [==============================] - 0s 3ms/step - loss: 1.2883 - accuracy: 0.7578\n",
            "Epoch 142/500\n",
            "13/13 [==============================] - 0s 2ms/step - loss: 1.2752 - accuracy: 0.7677\n",
            "Epoch 143/500\n",
            "13/13 [==============================] - 0s 2ms/step - loss: 1.2588 - accuracy: 0.7863\n",
            "Epoch 144/500\n",
            "13/13 [==============================] - 0s 3ms/step - loss: 1.2515 - accuracy: 0.7925\n",
            "Epoch 145/500\n",
            "13/13 [==============================] - 0s 2ms/step - loss: 1.2440 - accuracy: 0.8012\n",
            "Epoch 146/500\n",
            "13/13 [==============================] - 0s 2ms/step - loss: 1.2542 - accuracy: 0.7901\n",
            "Epoch 147/500\n",
            "13/13 [==============================] - 0s 2ms/step - loss: 1.3003 - accuracy: 0.7404\n",
            "Epoch 148/500\n",
            "13/13 [==============================] - 0s 2ms/step - loss: 1.3156 - accuracy: 0.7292\n",
            "Epoch 149/500\n",
            "13/13 [==============================] - 0s 2ms/step - loss: 1.2648 - accuracy: 0.7801\n",
            "Epoch 150/500\n",
            "13/13 [==============================] - 0s 2ms/step - loss: 1.2589 - accuracy: 0.7876\n",
            "Epoch 151/500\n",
            "13/13 [==============================] - 0s 2ms/step - loss: 1.2525 - accuracy: 0.7913\n",
            "Epoch 152/500\n",
            "13/13 [==============================] - 0s 3ms/step - loss: 1.3074 - accuracy: 0.7317\n",
            "Epoch 153/500\n",
            "13/13 [==============================] - 0s 3ms/step - loss: 1.2935 - accuracy: 0.7478\n",
            "Epoch 154/500\n",
            "13/13 [==============================] - 0s 3ms/step - loss: 1.2703 - accuracy: 0.7739\n",
            "Epoch 155/500\n",
            "13/13 [==============================] - 0s 3ms/step - loss: 1.2796 - accuracy: 0.7615\n",
            "Epoch 156/500\n",
            "13/13 [==============================] - 0s 3ms/step - loss: 1.2516 - accuracy: 0.7938\n",
            "Epoch 157/500\n",
            "13/13 [==============================] - 0s 3ms/step - loss: 1.2360 - accuracy: 0.8099\n",
            "Epoch 158/500\n",
            "13/13 [==============================] - 0s 3ms/step - loss: 1.2324 - accuracy: 0.8062\n",
            "Epoch 159/500\n",
            "13/13 [==============================] - 0s 3ms/step - loss: 1.2273 - accuracy: 0.8199\n",
            "Epoch 160/500\n",
            "13/13 [==============================] - 0s 3ms/step - loss: 1.2297 - accuracy: 0.8149\n",
            "Epoch 161/500\n",
            "13/13 [==============================] - 0s 3ms/step - loss: 1.2299 - accuracy: 0.8149\n",
            "Epoch 162/500\n",
            "13/13 [==============================] - 0s 3ms/step - loss: 1.2472 - accuracy: 0.7988\n",
            "Epoch 163/500\n",
            "13/13 [==============================] - 0s 3ms/step - loss: 1.2284 - accuracy: 0.8161\n",
            "Epoch 164/500\n",
            "13/13 [==============================] - 0s 3ms/step - loss: 1.2252 - accuracy: 0.8211\n",
            "Epoch 165/500\n",
            "13/13 [==============================] - 0s 2ms/step - loss: 1.2280 - accuracy: 0.8161\n",
            "Epoch 166/500\n",
            "13/13 [==============================] - 0s 2ms/step - loss: 1.2351 - accuracy: 0.8087\n",
            "Epoch 167/500\n",
            "13/13 [==============================] - 0s 2ms/step - loss: 1.2467 - accuracy: 0.7975\n",
            "Epoch 168/500\n",
            "13/13 [==============================] - 0s 3ms/step - loss: 1.2191 - accuracy: 0.8286\n",
            "Epoch 169/500\n",
            "13/13 [==============================] - 0s 3ms/step - loss: 1.2267 - accuracy: 0.8174\n",
            "Epoch 170/500\n",
            "13/13 [==============================] - 0s 2ms/step - loss: 1.2286 - accuracy: 0.8137\n",
            "Epoch 171/500\n",
            "13/13 [==============================] - 0s 2ms/step - loss: 1.2294 - accuracy: 0.8149\n",
            "Epoch 172/500\n",
            "13/13 [==============================] - 0s 2ms/step - loss: 1.2169 - accuracy: 0.8248\n",
            "Epoch 173/500\n",
            "13/13 [==============================] - 0s 2ms/step - loss: 1.2179 - accuracy: 0.8261\n",
            "Epoch 174/500\n",
            "13/13 [==============================] - 0s 3ms/step - loss: 1.2001 - accuracy: 0.8447\n",
            "Epoch 175/500\n",
            "13/13 [==============================] - 0s 2ms/step - loss: 1.1987 - accuracy: 0.8460\n",
            "Epoch 176/500\n",
            "13/13 [==============================] - 0s 2ms/step - loss: 1.1954 - accuracy: 0.8484\n",
            "Epoch 177/500\n",
            "13/13 [==============================] - 0s 2ms/step - loss: 1.1958 - accuracy: 0.8484\n",
            "Epoch 178/500\n",
            "13/13 [==============================] - 0s 2ms/step - loss: 1.2077 - accuracy: 0.8373\n",
            "Epoch 179/500\n",
            "13/13 [==============================] - 0s 2ms/step - loss: 1.2056 - accuracy: 0.8410\n",
            "Epoch 180/500\n",
            "13/13 [==============================] - 0s 2ms/step - loss: 1.2285 - accuracy: 0.8149\n",
            "Epoch 181/500\n",
            "13/13 [==============================] - 0s 2ms/step - loss: 1.2497 - accuracy: 0.7925\n",
            "Epoch 182/500\n",
            "13/13 [==============================] - 0s 2ms/step - loss: 1.2599 - accuracy: 0.7851\n",
            "Epoch 183/500\n",
            "13/13 [==============================] - 0s 2ms/step - loss: 1.2387 - accuracy: 0.8075\n",
            "Epoch 184/500\n",
            "13/13 [==============================] - 0s 2ms/step - loss: 1.2156 - accuracy: 0.8286\n",
            "Epoch 185/500\n",
            "13/13 [==============================] - 0s 2ms/step - loss: 1.2017 - accuracy: 0.8447\n",
            "Epoch 186/500\n",
            "13/13 [==============================] - 0s 2ms/step - loss: 1.1994 - accuracy: 0.8447\n",
            "Epoch 187/500\n",
            "13/13 [==============================] - 0s 2ms/step - loss: 1.2017 - accuracy: 0.8410\n",
            "Epoch 188/500\n",
            "13/13 [==============================] - 0s 3ms/step - loss: 1.1938 - accuracy: 0.8497\n",
            "Epoch 189/500\n",
            "13/13 [==============================] - 0s 2ms/step - loss: 1.2008 - accuracy: 0.8410\n",
            "Epoch 190/500\n",
            "13/13 [==============================] - 0s 3ms/step - loss: 1.2005 - accuracy: 0.8398\n",
            "Epoch 191/500\n",
            "13/13 [==============================] - 0s 2ms/step - loss: 1.2124 - accuracy: 0.8273\n",
            "Epoch 192/500\n",
            "13/13 [==============================] - 0s 2ms/step - loss: 1.2215 - accuracy: 0.8211\n",
            "Epoch 193/500\n",
            "13/13 [==============================] - 0s 3ms/step - loss: 1.2133 - accuracy: 0.8273\n",
            "Epoch 194/500\n",
            "13/13 [==============================] - 0s 2ms/step - loss: 1.2011 - accuracy: 0.8447\n",
            "Epoch 195/500\n",
            "13/13 [==============================] - 0s 2ms/step - loss: 1.1951 - accuracy: 0.8484\n",
            "Epoch 196/500\n",
            "13/13 [==============================] - 0s 2ms/step - loss: 1.2021 - accuracy: 0.8422\n",
            "Epoch 197/500\n",
            "13/13 [==============================] - 0s 2ms/step - loss: 1.1998 - accuracy: 0.8447\n",
            "Epoch 198/500\n",
            "13/13 [==============================] - 0s 2ms/step - loss: 1.2017 - accuracy: 0.8422\n",
            "Epoch 199/500\n",
            "13/13 [==============================] - 0s 2ms/step - loss: 1.1910 - accuracy: 0.8522\n",
            "Epoch 200/500\n",
            "13/13 [==============================] - 0s 3ms/step - loss: 1.2056 - accuracy: 0.8447\n",
            "Epoch 201/500\n",
            "13/13 [==============================] - 0s 2ms/step - loss: 1.1893 - accuracy: 0.8571\n",
            "Epoch 202/500\n",
            "13/13 [==============================] - 0s 2ms/step - loss: 1.1910 - accuracy: 0.8609\n",
            "Epoch 203/500\n",
            "13/13 [==============================] - 0s 2ms/step - loss: 1.1825 - accuracy: 0.8634\n",
            "Epoch 204/500\n",
            "13/13 [==============================] - 0s 3ms/step - loss: 1.1841 - accuracy: 0.8621\n",
            "Epoch 205/500\n",
            "13/13 [==============================] - 0s 2ms/step - loss: 1.2060 - accuracy: 0.8435\n",
            "Epoch 206/500\n",
            "13/13 [==============================] - 0s 2ms/step - loss: 1.2075 - accuracy: 0.8410\n",
            "Epoch 207/500\n",
            "13/13 [==============================] - 0s 3ms/step - loss: 1.2081 - accuracy: 0.8335\n",
            "Epoch 208/500\n",
            "13/13 [==============================] - 0s 2ms/step - loss: 1.2048 - accuracy: 0.8348\n",
            "Epoch 209/500\n",
            "13/13 [==============================] - 0s 2ms/step - loss: 1.1968 - accuracy: 0.8435\n",
            "Epoch 210/500\n",
            "13/13 [==============================] - 0s 2ms/step - loss: 1.1929 - accuracy: 0.8547\n",
            "Epoch 211/500\n",
            "13/13 [==============================] - 0s 2ms/step - loss: 1.1936 - accuracy: 0.8547\n",
            "Epoch 212/500\n",
            "13/13 [==============================] - 0s 2ms/step - loss: 1.1834 - accuracy: 0.8621\n",
            "Epoch 213/500\n",
            "13/13 [==============================] - 0s 2ms/step - loss: 1.1783 - accuracy: 0.8696\n",
            "Epoch 214/500\n",
            "13/13 [==============================] - 0s 3ms/step - loss: 1.1697 - accuracy: 0.8745\n",
            "Epoch 215/500\n",
            "13/13 [==============================] - 0s 2ms/step - loss: 1.1693 - accuracy: 0.8745\n",
            "Epoch 216/500\n",
            "13/13 [==============================] - 0s 2ms/step - loss: 1.1805 - accuracy: 0.8646\n",
            "Epoch 217/500\n",
            "13/13 [==============================] - 0s 2ms/step - loss: 1.1951 - accuracy: 0.8497\n",
            "Epoch 218/500\n",
            "13/13 [==============================] - 0s 3ms/step - loss: 1.1858 - accuracy: 0.8609\n",
            "Epoch 219/500\n",
            "13/13 [==============================] - 0s 3ms/step - loss: 1.1702 - accuracy: 0.8758\n",
            "Epoch 220/500\n",
            "13/13 [==============================] - 0s 2ms/step - loss: 1.1639 - accuracy: 0.8845\n",
            "Epoch 221/500\n",
            "13/13 [==============================] - 0s 2ms/step - loss: 1.1656 - accuracy: 0.8783\n",
            "Epoch 222/500\n",
            "13/13 [==============================] - 0s 2ms/step - loss: 1.1691 - accuracy: 0.8795\n",
            "Epoch 223/500\n",
            "13/13 [==============================] - 0s 2ms/step - loss: 1.1678 - accuracy: 0.8758\n",
            "Epoch 224/500\n",
            "13/13 [==============================] - 0s 2ms/step - loss: 1.1805 - accuracy: 0.8671\n",
            "Epoch 225/500\n",
            "13/13 [==============================] - 0s 2ms/step - loss: 1.1858 - accuracy: 0.8609\n",
            "Epoch 226/500\n",
            "13/13 [==============================] - 0s 2ms/step - loss: 1.1637 - accuracy: 0.8807\n",
            "Epoch 227/500\n",
            "13/13 [==============================] - 0s 2ms/step - loss: 1.1597 - accuracy: 0.8882\n",
            "Epoch 228/500\n",
            "13/13 [==============================] - 0s 3ms/step - loss: 1.1589 - accuracy: 0.8857\n",
            "Epoch 229/500\n",
            "13/13 [==============================] - 0s 3ms/step - loss: 1.1589 - accuracy: 0.8870\n",
            "Epoch 230/500\n",
            "13/13 [==============================] - 0s 2ms/step - loss: 1.1569 - accuracy: 0.8919\n",
            "Epoch 231/500\n",
            "13/13 [==============================] - 0s 2ms/step - loss: 1.1595 - accuracy: 0.8845\n",
            "Epoch 232/500\n",
            "13/13 [==============================] - 0s 2ms/step - loss: 1.1719 - accuracy: 0.8758\n",
            "Epoch 233/500\n",
            "13/13 [==============================] - 0s 2ms/step - loss: 1.1916 - accuracy: 0.8509\n",
            "Epoch 234/500\n",
            "13/13 [==============================] - 0s 2ms/step - loss: 1.1610 - accuracy: 0.8845\n",
            "Epoch 235/500\n",
            "13/13 [==============================] - 0s 2ms/step - loss: 1.1591 - accuracy: 0.8870\n",
            "Epoch 236/500\n",
            "13/13 [==============================] - 0s 2ms/step - loss: 1.1567 - accuracy: 0.8894\n",
            "Epoch 237/500\n",
            "13/13 [==============================] - 0s 2ms/step - loss: 1.1637 - accuracy: 0.8783\n",
            "Epoch 238/500\n",
            "13/13 [==============================] - 0s 2ms/step - loss: 1.1693 - accuracy: 0.8745\n",
            "Epoch 239/500\n",
            "13/13 [==============================] - 0s 2ms/step - loss: 1.1648 - accuracy: 0.8795\n",
            "Epoch 240/500\n",
            "13/13 [==============================] - 0s 2ms/step - loss: 1.1541 - accuracy: 0.8919\n",
            "Epoch 241/500\n",
            "13/13 [==============================] - 0s 2ms/step - loss: 1.1576 - accuracy: 0.8882\n",
            "Epoch 242/500\n",
            "13/13 [==============================] - 0s 3ms/step - loss: 1.1580 - accuracy: 0.8894\n",
            "Epoch 243/500\n",
            "13/13 [==============================] - 0s 2ms/step - loss: 1.1533 - accuracy: 0.8932\n",
            "Epoch 244/500\n",
            "13/13 [==============================] - 0s 2ms/step - loss: 1.1488 - accuracy: 0.8944\n",
            "Epoch 245/500\n",
            "13/13 [==============================] - 0s 2ms/step - loss: 1.1458 - accuracy: 0.9019\n",
            "Epoch 246/500\n",
            "13/13 [==============================] - 0s 3ms/step - loss: 1.1541 - accuracy: 0.8882\n",
            "Epoch 247/500\n",
            "13/13 [==============================] - 0s 2ms/step - loss: 1.1620 - accuracy: 0.8820\n",
            "Epoch 248/500\n",
            "13/13 [==============================] - 0s 2ms/step - loss: 1.1583 - accuracy: 0.8857\n",
            "Epoch 249/500\n",
            "13/13 [==============================] - 0s 3ms/step - loss: 1.1732 - accuracy: 0.8745\n",
            "Epoch 250/500\n",
            "13/13 [==============================] - 0s 3ms/step - loss: 1.1880 - accuracy: 0.8584\n",
            "Epoch 251/500\n",
            "13/13 [==============================] - 0s 2ms/step - loss: 1.1673 - accuracy: 0.8795\n",
            "Epoch 252/500\n",
            "13/13 [==============================] - 0s 2ms/step - loss: 1.1667 - accuracy: 0.8783\n",
            "Epoch 253/500\n",
            "13/13 [==============================] - 0s 2ms/step - loss: 1.1631 - accuracy: 0.8807\n",
            "Epoch 254/500\n",
            "13/13 [==============================] - 0s 2ms/step - loss: 1.1506 - accuracy: 0.8969\n",
            "Epoch 255/500\n",
            "13/13 [==============================] - 0s 3ms/step - loss: 1.1432 - accuracy: 0.9031\n",
            "Epoch 256/500\n",
            "13/13 [==============================] - 0s 2ms/step - loss: 1.1437 - accuracy: 0.9019\n",
            "Epoch 257/500\n",
            "13/13 [==============================] - 0s 2ms/step - loss: 1.1472 - accuracy: 0.8969\n",
            "Epoch 258/500\n",
            "13/13 [==============================] - 0s 2ms/step - loss: 1.1559 - accuracy: 0.8907\n",
            "Epoch 259/500\n",
            "13/13 [==============================] - 0s 2ms/step - loss: 1.1426 - accuracy: 0.9031\n",
            "Epoch 260/500\n",
            "13/13 [==============================] - 0s 2ms/step - loss: 1.1400 - accuracy: 0.9043\n",
            "Epoch 261/500\n",
            "13/13 [==============================] - 0s 2ms/step - loss: 1.1407 - accuracy: 0.9031\n",
            "Epoch 262/500\n",
            "13/13 [==============================] - 0s 3ms/step - loss: 1.1376 - accuracy: 0.9056\n",
            "Epoch 263/500\n",
            "13/13 [==============================] - 0s 2ms/step - loss: 1.1388 - accuracy: 0.9068\n",
            "Epoch 264/500\n",
            "13/13 [==============================] - 0s 2ms/step - loss: 1.1333 - accuracy: 0.9118\n",
            "Epoch 265/500\n",
            "13/13 [==============================] - 0s 2ms/step - loss: 1.1394 - accuracy: 0.9031\n",
            "Epoch 266/500\n",
            "13/13 [==============================] - 0s 2ms/step - loss: 1.1372 - accuracy: 0.9118\n",
            "Epoch 267/500\n",
            "13/13 [==============================] - 0s 3ms/step - loss: 1.1333 - accuracy: 0.9130\n",
            "Epoch 268/500\n",
            "13/13 [==============================] - 0s 3ms/step - loss: 1.1352 - accuracy: 0.9106\n",
            "Epoch 269/500\n",
            "13/13 [==============================] - 0s 3ms/step - loss: 1.1326 - accuracy: 0.9118\n",
            "Epoch 270/500\n",
            "13/13 [==============================] - 0s 3ms/step - loss: 1.1486 - accuracy: 0.8944\n",
            "Epoch 271/500\n",
            "13/13 [==============================] - 0s 3ms/step - loss: 1.1576 - accuracy: 0.8870\n",
            "Epoch 272/500\n",
            "13/13 [==============================] - 0s 2ms/step - loss: 1.1855 - accuracy: 0.8571\n",
            "Epoch 273/500\n",
            "13/13 [==============================] - 0s 3ms/step - loss: 1.1762 - accuracy: 0.8621\n",
            "Epoch 274/500\n",
            "13/13 [==============================] - 0s 2ms/step - loss: 1.1727 - accuracy: 0.8696\n",
            "Epoch 275/500\n",
            "13/13 [==============================] - 0s 2ms/step - loss: 1.1766 - accuracy: 0.8683\n",
            "Epoch 276/500\n",
            "13/13 [==============================] - 0s 2ms/step - loss: 1.1537 - accuracy: 0.8882\n",
            "Epoch 277/500\n",
            "13/13 [==============================] - 0s 2ms/step - loss: 1.1672 - accuracy: 0.8758\n",
            "Epoch 278/500\n",
            "13/13 [==============================] - 0s 2ms/step - loss: 1.1531 - accuracy: 0.8944\n",
            "Epoch 279/500\n",
            "13/13 [==============================] - 0s 3ms/step - loss: 1.1415 - accuracy: 0.9031\n",
            "Epoch 280/500\n",
            "13/13 [==============================] - 0s 3ms/step - loss: 1.1346 - accuracy: 0.9118\n",
            "Epoch 281/500\n",
            "13/13 [==============================] - 0s 3ms/step - loss: 1.1371 - accuracy: 0.9093\n",
            "Epoch 282/500\n",
            "13/13 [==============================] - 0s 3ms/step - loss: 1.1465 - accuracy: 0.8981\n",
            "Epoch 283/500\n",
            "13/13 [==============================] - 0s 3ms/step - loss: 1.1483 - accuracy: 0.8981\n",
            "Epoch 284/500\n",
            "13/13 [==============================] - 0s 3ms/step - loss: 1.1579 - accuracy: 0.8894\n",
            "Epoch 285/500\n",
            "13/13 [==============================] - 0s 3ms/step - loss: 1.1337 - accuracy: 0.9118\n",
            "Epoch 286/500\n",
            "13/13 [==============================] - 0s 3ms/step - loss: 1.1313 - accuracy: 0.9118\n",
            "Epoch 287/500\n",
            "13/13 [==============================] - 0s 3ms/step - loss: 1.1322 - accuracy: 0.9118\n",
            "Epoch 288/500\n",
            "13/13 [==============================] - 0s 3ms/step - loss: 1.1316 - accuracy: 0.9143\n",
            "Epoch 289/500\n",
            "13/13 [==============================] - 0s 2ms/step - loss: 1.1361 - accuracy: 0.9056\n",
            "Epoch 290/500\n",
            "13/13 [==============================] - 0s 2ms/step - loss: 1.1394 - accuracy: 0.9081\n",
            "Epoch 291/500\n",
            "13/13 [==============================] - 0s 3ms/step - loss: 1.1312 - accuracy: 0.9143\n",
            "Epoch 292/500\n",
            "13/13 [==============================] - 0s 2ms/step - loss: 1.1301 - accuracy: 0.9155\n",
            "Epoch 293/500\n",
            "13/13 [==============================] - 0s 3ms/step - loss: 1.1313 - accuracy: 0.9143\n",
            "Epoch 294/500\n",
            "13/13 [==============================] - 0s 2ms/step - loss: 1.1361 - accuracy: 0.9056\n",
            "Epoch 295/500\n",
            "13/13 [==============================] - 0s 3ms/step - loss: 1.1375 - accuracy: 0.9068\n",
            "Epoch 296/500\n",
            "13/13 [==============================] - 0s 2ms/step - loss: 1.1296 - accuracy: 0.9143\n",
            "Epoch 297/500\n",
            "13/13 [==============================] - 0s 2ms/step - loss: 1.1429 - accuracy: 0.9043\n",
            "Epoch 298/500\n",
            "13/13 [==============================] - 0s 2ms/step - loss: 1.1446 - accuracy: 0.9006\n",
            "Epoch 299/500\n",
            "13/13 [==============================] - 0s 3ms/step - loss: 1.1298 - accuracy: 0.9155\n",
            "Epoch 300/500\n",
            "13/13 [==============================] - 0s 2ms/step - loss: 1.1274 - accuracy: 0.9180\n",
            "Epoch 301/500\n",
            "13/13 [==============================] - 0s 2ms/step - loss: 1.1437 - accuracy: 0.8994\n",
            "Epoch 302/500\n",
            "13/13 [==============================] - 0s 2ms/step - loss: 1.1316 - accuracy: 0.9130\n",
            "Epoch 303/500\n",
            "13/13 [==============================] - 0s 2ms/step - loss: 1.1380 - accuracy: 0.9056\n",
            "Epoch 304/500\n",
            "13/13 [==============================] - 0s 2ms/step - loss: 1.1471 - accuracy: 0.8981\n",
            "Epoch 305/500\n",
            "13/13 [==============================] - 0s 2ms/step - loss: 1.1364 - accuracy: 0.9081\n",
            "Epoch 306/500\n",
            "13/13 [==============================] - 0s 3ms/step - loss: 1.1637 - accuracy: 0.8783\n",
            "Epoch 307/500\n",
            "13/13 [==============================] - 0s 3ms/step - loss: 1.1883 - accuracy: 0.8559\n",
            "Epoch 308/500\n",
            "13/13 [==============================] - 0s 2ms/step - loss: 1.1926 - accuracy: 0.8497\n",
            "Epoch 309/500\n",
            "13/13 [==============================] - 0s 2ms/step - loss: 1.1642 - accuracy: 0.8807\n",
            "Epoch 310/500\n",
            "13/13 [==============================] - 0s 2ms/step - loss: 1.1449 - accuracy: 0.9006\n",
            "Epoch 311/500\n",
            "13/13 [==============================] - 0s 3ms/step - loss: 1.1545 - accuracy: 0.8907\n",
            "Epoch 312/500\n",
            "13/13 [==============================] - 0s 2ms/step - loss: 1.1336 - accuracy: 0.9118\n",
            "Epoch 313/500\n",
            "13/13 [==============================] - 0s 2ms/step - loss: 1.1605 - accuracy: 0.8832\n",
            "Epoch 314/500\n",
            "13/13 [==============================] - 0s 3ms/step - loss: 1.1509 - accuracy: 0.8957\n",
            "Epoch 315/500\n",
            "13/13 [==============================] - 0s 2ms/step - loss: 1.1607 - accuracy: 0.8832\n",
            "Epoch 316/500\n",
            "13/13 [==============================] - 0s 3ms/step - loss: 1.1512 - accuracy: 0.8907\n",
            "Epoch 317/500\n",
            "13/13 [==============================] - 0s 3ms/step - loss: 1.1482 - accuracy: 0.8994\n",
            "Epoch 318/500\n",
            "13/13 [==============================] - 0s 2ms/step - loss: 1.1418 - accuracy: 0.9031\n",
            "Epoch 319/500\n",
            "13/13 [==============================] - 0s 2ms/step - loss: 1.1343 - accuracy: 0.9093\n",
            "Epoch 320/500\n",
            "13/13 [==============================] - 0s 3ms/step - loss: 1.1304 - accuracy: 0.9130\n",
            "Epoch 321/500\n",
            "13/13 [==============================] - 0s 2ms/step - loss: 1.1569 - accuracy: 0.8870\n",
            "Epoch 322/500\n",
            "13/13 [==============================] - 0s 2ms/step - loss: 1.1469 - accuracy: 0.8957\n",
            "Epoch 323/500\n",
            "13/13 [==============================] - 0s 2ms/step - loss: 1.1498 - accuracy: 0.8932\n",
            "Epoch 324/500\n",
            "13/13 [==============================] - 0s 3ms/step - loss: 1.1551 - accuracy: 0.8919\n",
            "Epoch 325/500\n",
            "13/13 [==============================] - 0s 2ms/step - loss: 1.1444 - accuracy: 0.8981\n",
            "Epoch 326/500\n",
            "13/13 [==============================] - 0s 2ms/step - loss: 1.1413 - accuracy: 0.9031\n",
            "Epoch 327/500\n",
            "13/13 [==============================] - 0s 3ms/step - loss: 1.1451 - accuracy: 0.8969\n",
            "Epoch 328/500\n",
            "13/13 [==============================] - 0s 2ms/step - loss: 1.1554 - accuracy: 0.8894\n",
            "Epoch 329/500\n",
            "13/13 [==============================] - 0s 2ms/step - loss: 1.1371 - accuracy: 0.9043\n",
            "Epoch 330/500\n",
            "13/13 [==============================] - 0s 3ms/step - loss: 1.1352 - accuracy: 0.9093\n",
            "Epoch 331/500\n",
            "13/13 [==============================] - 0s 3ms/step - loss: 1.1286 - accuracy: 0.9155\n",
            "Epoch 332/500\n",
            "13/13 [==============================] - 0s 2ms/step - loss: 1.1350 - accuracy: 0.9081\n",
            "Epoch 333/500\n",
            "13/13 [==============================] - 0s 3ms/step - loss: 1.1463 - accuracy: 0.8969\n",
            "Epoch 334/500\n",
            "13/13 [==============================] - 0s 3ms/step - loss: 1.1325 - accuracy: 0.9118\n",
            "Epoch 335/500\n",
            "13/13 [==============================] - 0s 3ms/step - loss: 1.1503 - accuracy: 0.8907\n",
            "Epoch 336/500\n",
            "13/13 [==============================] - 0s 3ms/step - loss: 1.1463 - accuracy: 0.8994\n",
            "Epoch 337/500\n",
            "13/13 [==============================] - 0s 2ms/step - loss: 1.1361 - accuracy: 0.9093\n",
            "Epoch 338/500\n",
            "13/13 [==============================] - 0s 2ms/step - loss: 1.1368 - accuracy: 0.9093\n",
            "Epoch 339/500\n",
            "13/13 [==============================] - 0s 2ms/step - loss: 1.1430 - accuracy: 0.9019\n",
            "Epoch 340/500\n",
            "13/13 [==============================] - 0s 2ms/step - loss: 1.1529 - accuracy: 0.8894\n",
            "Epoch 341/500\n",
            "13/13 [==============================] - 0s 3ms/step - loss: 1.1406 - accuracy: 0.9031\n",
            "Epoch 342/500\n",
            "13/13 [==============================] - 0s 3ms/step - loss: 1.1348 - accuracy: 0.9081\n",
            "Epoch 343/500\n",
            "13/13 [==============================] - 0s 3ms/step - loss: 1.1287 - accuracy: 0.9155\n",
            "Epoch 344/500\n",
            "13/13 [==============================] - 0s 3ms/step - loss: 1.1275 - accuracy: 0.9168\n",
            "Epoch 345/500\n",
            "13/13 [==============================] - 0s 3ms/step - loss: 1.1289 - accuracy: 0.9155\n",
            "Epoch 346/500\n",
            "13/13 [==============================] - 0s 3ms/step - loss: 1.1310 - accuracy: 0.9106\n",
            "Epoch 347/500\n",
            "13/13 [==============================] - 0s 3ms/step - loss: 1.1290 - accuracy: 0.9155\n",
            "Epoch 348/500\n",
            "13/13 [==============================] - 0s 2ms/step - loss: 1.1348 - accuracy: 0.9093\n",
            "Epoch 349/500\n",
            "13/13 [==============================] - 0s 2ms/step - loss: 1.1280 - accuracy: 0.9168\n",
            "Epoch 350/500\n",
            "13/13 [==============================] - 0s 2ms/step - loss: 1.1290 - accuracy: 0.9155\n",
            "Epoch 351/500\n",
            "13/13 [==============================] - 0s 2ms/step - loss: 1.1289 - accuracy: 0.9155\n",
            "Epoch 352/500\n",
            "13/13 [==============================] - 0s 2ms/step - loss: 1.1240 - accuracy: 0.9193\n",
            "Epoch 353/500\n",
            "13/13 [==============================] - 0s 2ms/step - loss: 1.1245 - accuracy: 0.9180\n",
            "Epoch 354/500\n",
            "13/13 [==============================] - 0s 3ms/step - loss: 1.1332 - accuracy: 0.9106\n",
            "Epoch 355/500\n",
            "13/13 [==============================] - 0s 2ms/step - loss: 1.1246 - accuracy: 0.9193\n",
            "Epoch 356/500\n",
            "13/13 [==============================] - 0s 2ms/step - loss: 1.1246 - accuracy: 0.9205\n",
            "Epoch 357/500\n",
            "13/13 [==============================] - 0s 3ms/step - loss: 1.1397 - accuracy: 0.9056\n",
            "Epoch 358/500\n",
            "13/13 [==============================] - 0s 2ms/step - loss: 1.1400 - accuracy: 0.9019\n",
            "Epoch 359/500\n",
            "13/13 [==============================] - 0s 2ms/step - loss: 1.1304 - accuracy: 0.9155\n",
            "Epoch 360/500\n",
            "13/13 [==============================] - 0s 2ms/step - loss: 1.1440 - accuracy: 0.8994\n",
            "Epoch 361/500\n",
            "13/13 [==============================] - 0s 3ms/step - loss: 1.1360 - accuracy: 0.9068\n",
            "Epoch 362/500\n",
            "13/13 [==============================] - 0s 3ms/step - loss: 1.1788 - accuracy: 0.8658\n",
            "Epoch 363/500\n",
            "13/13 [==============================] - 0s 2ms/step - loss: 1.1420 - accuracy: 0.9019\n",
            "Epoch 364/500\n",
            "13/13 [==============================] - 0s 2ms/step - loss: 1.1469 - accuracy: 0.8981\n",
            "Epoch 365/500\n",
            "13/13 [==============================] - 0s 3ms/step - loss: 1.1336 - accuracy: 0.9130\n",
            "Epoch 366/500\n",
            "13/13 [==============================] - 0s 3ms/step - loss: 1.1329 - accuracy: 0.9106\n",
            "Epoch 367/500\n",
            "13/13 [==============================] - 0s 3ms/step - loss: 1.1265 - accuracy: 0.9155\n",
            "Epoch 368/500\n",
            "13/13 [==============================] - 0s 3ms/step - loss: 1.1484 - accuracy: 0.8957\n",
            "Epoch 369/500\n",
            "13/13 [==============================] - 0s 3ms/step - loss: 1.1901 - accuracy: 0.8534\n",
            "Epoch 370/500\n",
            "13/13 [==============================] - 0s 3ms/step - loss: 1.2143 - accuracy: 0.8273\n",
            "Epoch 371/500\n",
            "13/13 [==============================] - 0s 3ms/step - loss: 1.1533 - accuracy: 0.8882\n",
            "Epoch 372/500\n",
            "13/13 [==============================] - 0s 2ms/step - loss: 1.1333 - accuracy: 0.9106\n",
            "Epoch 373/500\n",
            "13/13 [==============================] - 0s 2ms/step - loss: 1.1329 - accuracy: 0.9130\n",
            "Epoch 374/500\n",
            "13/13 [==============================] - 0s 3ms/step - loss: 1.1356 - accuracy: 0.9068\n",
            "Epoch 375/500\n",
            "13/13 [==============================] - 0s 3ms/step - loss: 1.1329 - accuracy: 0.9118\n",
            "Epoch 376/500\n",
            "13/13 [==============================] - 0s 3ms/step - loss: 1.1360 - accuracy: 0.9068\n",
            "Epoch 377/500\n",
            "13/13 [==============================] - 0s 3ms/step - loss: 1.1392 - accuracy: 0.9043\n",
            "Epoch 378/500\n",
            "13/13 [==============================] - 0s 3ms/step - loss: 1.1481 - accuracy: 0.8969\n",
            "Epoch 379/500\n",
            "13/13 [==============================] - 0s 3ms/step - loss: 1.1327 - accuracy: 0.9118\n",
            "Epoch 380/500\n",
            "13/13 [==============================] - 0s 3ms/step - loss: 1.1245 - accuracy: 0.9193\n",
            "Epoch 381/500\n",
            "13/13 [==============================] - 0s 3ms/step - loss: 1.1242 - accuracy: 0.9193\n",
            "Epoch 382/500\n",
            "13/13 [==============================] - 0s 3ms/step - loss: 1.1239 - accuracy: 0.9205\n",
            "Epoch 383/500\n",
            "13/13 [==============================] - 0s 3ms/step - loss: 1.1206 - accuracy: 0.9242\n",
            "Epoch 384/500\n",
            "13/13 [==============================] - 0s 3ms/step - loss: 1.1218 - accuracy: 0.9217\n",
            "Epoch 385/500\n",
            "13/13 [==============================] - 0s 3ms/step - loss: 1.1249 - accuracy: 0.9180\n",
            "Epoch 386/500\n",
            "13/13 [==============================] - 0s 4ms/step - loss: 1.1250 - accuracy: 0.9180\n",
            "Epoch 387/500\n",
            "13/13 [==============================] - 0s 3ms/step - loss: 1.1242 - accuracy: 0.9193\n",
            "Epoch 388/500\n",
            "13/13 [==============================] - 0s 3ms/step - loss: 1.1221 - accuracy: 0.9217\n",
            "Epoch 389/500\n",
            "13/13 [==============================] - 0s 3ms/step - loss: 1.1220 - accuracy: 0.9217\n",
            "Epoch 390/500\n",
            "13/13 [==============================] - 0s 4ms/step - loss: 1.1268 - accuracy: 0.9168\n",
            "Epoch 391/500\n",
            "13/13 [==============================] - 0s 3ms/step - loss: 1.1267 - accuracy: 0.9168\n",
            "Epoch 392/500\n",
            "13/13 [==============================] - 0s 3ms/step - loss: 1.1312 - accuracy: 0.9118\n",
            "Epoch 393/500\n",
            "13/13 [==============================] - 0s 3ms/step - loss: 1.1311 - accuracy: 0.9106\n",
            "Epoch 394/500\n",
            "13/13 [==============================] - 0s 3ms/step - loss: 1.1243 - accuracy: 0.9193\n",
            "Epoch 395/500\n",
            "13/13 [==============================] - 0s 2ms/step - loss: 1.1226 - accuracy: 0.9205\n",
            "Epoch 396/500\n",
            "13/13 [==============================] - 0s 2ms/step - loss: 1.1312 - accuracy: 0.9130\n",
            "Epoch 397/500\n",
            "13/13 [==============================] - 0s 2ms/step - loss: 1.1309 - accuracy: 0.9130\n",
            "Epoch 398/500\n",
            "13/13 [==============================] - 0s 3ms/step - loss: 1.1278 - accuracy: 0.9180\n",
            "Epoch 399/500\n",
            "13/13 [==============================] - 0s 3ms/step - loss: 1.1253 - accuracy: 0.9180\n",
            "Epoch 400/500\n",
            "13/13 [==============================] - 0s 2ms/step - loss: 1.1248 - accuracy: 0.9205\n",
            "Epoch 401/500\n",
            "13/13 [==============================] - 0s 2ms/step - loss: 1.1243 - accuracy: 0.9193\n",
            "Epoch 402/500\n",
            "13/13 [==============================] - 0s 3ms/step - loss: 1.1194 - accuracy: 0.9242\n",
            "Epoch 403/500\n",
            "13/13 [==============================] - 0s 3ms/step - loss: 1.1210 - accuracy: 0.9242\n",
            "Epoch 404/500\n",
            "13/13 [==============================] - 0s 2ms/step - loss: 1.1308 - accuracy: 0.9118\n",
            "Epoch 405/500\n",
            "13/13 [==============================] - 0s 3ms/step - loss: 1.1394 - accuracy: 0.9056\n",
            "Epoch 406/500\n",
            "13/13 [==============================] - 0s 3ms/step - loss: 1.1298 - accuracy: 0.9143\n",
            "Epoch 407/500\n",
            "13/13 [==============================] - 0s 3ms/step - loss: 1.1331 - accuracy: 0.9106\n",
            "Epoch 408/500\n",
            "13/13 [==============================] - 0s 3ms/step - loss: 1.1325 - accuracy: 0.9118\n",
            "Epoch 409/500\n",
            "13/13 [==============================] - 0s 2ms/step - loss: 1.1278 - accuracy: 0.9155\n",
            "Epoch 410/500\n",
            "13/13 [==============================] - 0s 3ms/step - loss: 1.1464 - accuracy: 0.8957\n",
            "Epoch 411/500\n",
            "13/13 [==============================] - 0s 2ms/step - loss: 1.1376 - accuracy: 0.9056\n",
            "Epoch 412/500\n",
            "13/13 [==============================] - 0s 2ms/step - loss: 1.1257 - accuracy: 0.9180\n",
            "Epoch 413/500\n",
            "13/13 [==============================] - 0s 3ms/step - loss: 1.1391 - accuracy: 0.9068\n",
            "Epoch 414/500\n",
            "13/13 [==============================] - 0s 3ms/step - loss: 1.1285 - accuracy: 0.9168\n",
            "Epoch 415/500\n",
            "13/13 [==============================] - 0s 3ms/step - loss: 1.1228 - accuracy: 0.9217\n",
            "Epoch 416/500\n",
            "13/13 [==============================] - 0s 2ms/step - loss: 1.1194 - accuracy: 0.9242\n",
            "Epoch 417/500\n",
            "13/13 [==============================] - 0s 3ms/step - loss: 1.1212 - accuracy: 0.9217\n",
            "Epoch 418/500\n",
            "13/13 [==============================] - 0s 3ms/step - loss: 1.1186 - accuracy: 0.9242\n",
            "Epoch 419/500\n",
            "13/13 [==============================] - 0s 2ms/step - loss: 1.1240 - accuracy: 0.9193\n",
            "Epoch 420/500\n",
            "13/13 [==============================] - 0s 3ms/step - loss: 1.1217 - accuracy: 0.9205\n",
            "Epoch 421/500\n",
            "13/13 [==============================] - 0s 3ms/step - loss: 1.1196 - accuracy: 0.9242\n",
            "Epoch 422/500\n",
            "13/13 [==============================] - 0s 3ms/step - loss: 1.1175 - accuracy: 0.9267\n",
            "Epoch 423/500\n",
            "13/13 [==============================] - 0s 3ms/step - loss: 1.1173 - accuracy: 0.9267\n",
            "Epoch 424/500\n",
            "13/13 [==============================] - 0s 3ms/step - loss: 1.1169 - accuracy: 0.9255\n",
            "Epoch 425/500\n",
            "13/13 [==============================] - 0s 3ms/step - loss: 1.1209 - accuracy: 0.9230\n",
            "Epoch 426/500\n",
            "13/13 [==============================] - 0s 3ms/step - loss: 1.1177 - accuracy: 0.9255\n",
            "Epoch 427/500\n",
            "13/13 [==============================] - 0s 3ms/step - loss: 1.1176 - accuracy: 0.9255\n",
            "Epoch 428/500\n",
            "13/13 [==============================] - 0s 3ms/step - loss: 1.1165 - accuracy: 0.9267\n",
            "Epoch 429/500\n",
            "13/13 [==============================] - 0s 3ms/step - loss: 1.1170 - accuracy: 0.9267\n",
            "Epoch 430/500\n",
            "13/13 [==============================] - 0s 3ms/step - loss: 1.1162 - accuracy: 0.9267\n",
            "Epoch 431/500\n",
            "13/13 [==============================] - 0s 3ms/step - loss: 1.1166 - accuracy: 0.9267\n",
            "Epoch 432/500\n",
            "13/13 [==============================] - 0s 3ms/step - loss: 1.1186 - accuracy: 0.9255\n",
            "Epoch 433/500\n",
            "13/13 [==============================] - 0s 2ms/step - loss: 1.1288 - accuracy: 0.9155\n",
            "Epoch 434/500\n",
            "13/13 [==============================] - 0s 3ms/step - loss: 1.1392 - accuracy: 0.9056\n",
            "Epoch 435/500\n",
            "13/13 [==============================] - 0s 2ms/step - loss: 1.1575 - accuracy: 0.8882\n",
            "Epoch 436/500\n",
            "13/13 [==============================] - 0s 3ms/step - loss: 1.1506 - accuracy: 0.8944\n",
            "Epoch 437/500\n",
            "13/13 [==============================] - 0s 3ms/step - loss: 1.1419 - accuracy: 0.9031\n",
            "Epoch 438/500\n",
            "13/13 [==============================] - 0s 3ms/step - loss: 1.1567 - accuracy: 0.8857\n",
            "Epoch 439/500\n",
            "13/13 [==============================] - 0s 3ms/step - loss: 1.1491 - accuracy: 0.8932\n",
            "Epoch 440/500\n",
            "13/13 [==============================] - 0s 2ms/step - loss: 1.1369 - accuracy: 0.9068\n",
            "Epoch 441/500\n",
            "13/13 [==============================] - 0s 3ms/step - loss: 1.1247 - accuracy: 0.9193\n",
            "Epoch 442/500\n",
            "13/13 [==============================] - 0s 3ms/step - loss: 1.1277 - accuracy: 0.9155\n",
            "Epoch 443/500\n",
            "13/13 [==============================] - 0s 3ms/step - loss: 1.1707 - accuracy: 0.8745\n",
            "Epoch 444/500\n",
            "13/13 [==============================] - 0s 2ms/step - loss: 1.1653 - accuracy: 0.8783\n",
            "Epoch 445/500\n",
            "13/13 [==============================] - 0s 3ms/step - loss: 1.1917 - accuracy: 0.8509\n",
            "Epoch 446/500\n",
            "13/13 [==============================] - 0s 3ms/step - loss: 1.1479 - accuracy: 0.8981\n",
            "Epoch 447/500\n",
            "13/13 [==============================] - 0s 3ms/step - loss: 1.1314 - accuracy: 0.9130\n",
            "Epoch 448/500\n",
            "13/13 [==============================] - 0s 3ms/step - loss: 1.1237 - accuracy: 0.9205\n",
            "Epoch 449/500\n",
            "13/13 [==============================] - 0s 3ms/step - loss: 1.1236 - accuracy: 0.9217\n",
            "Epoch 450/500\n",
            "13/13 [==============================] - 0s 3ms/step - loss: 1.1276 - accuracy: 0.9180\n",
            "Epoch 451/500\n",
            "13/13 [==============================] - 0s 3ms/step - loss: 1.1229 - accuracy: 0.9205\n",
            "Epoch 452/500\n",
            "13/13 [==============================] - 0s 3ms/step - loss: 1.1203 - accuracy: 0.9230\n",
            "Epoch 453/500\n",
            "13/13 [==============================] - 0s 3ms/step - loss: 1.1276 - accuracy: 0.9155\n",
            "Epoch 454/500\n",
            "13/13 [==============================] - 0s 3ms/step - loss: 1.1219 - accuracy: 0.9230\n",
            "Epoch 455/500\n",
            "13/13 [==============================] - 0s 3ms/step - loss: 1.1266 - accuracy: 0.9168\n",
            "Epoch 456/500\n",
            "13/13 [==============================] - 0s 2ms/step - loss: 1.1259 - accuracy: 0.9168\n",
            "Epoch 457/500\n",
            "13/13 [==============================] - 0s 2ms/step - loss: 1.1233 - accuracy: 0.9217\n",
            "Epoch 458/500\n",
            "13/13 [==============================] - 0s 3ms/step - loss: 1.1345 - accuracy: 0.9081\n",
            "Epoch 459/500\n",
            "13/13 [==============================] - 0s 3ms/step - loss: 1.1397 - accuracy: 0.9019\n",
            "Epoch 460/500\n",
            "13/13 [==============================] - 0s 2ms/step - loss: 1.1254 - accuracy: 0.9205\n",
            "Epoch 461/500\n",
            "13/13 [==============================] - 0s 2ms/step - loss: 1.1724 - accuracy: 0.8733\n",
            "Epoch 462/500\n",
            "13/13 [==============================] - 0s 2ms/step - loss: 1.1360 - accuracy: 0.9093\n",
            "Epoch 463/500\n",
            "13/13 [==============================] - 0s 3ms/step - loss: 1.1260 - accuracy: 0.9168\n",
            "Epoch 464/500\n",
            "13/13 [==============================] - 0s 3ms/step - loss: 1.1200 - accuracy: 0.9230\n",
            "Epoch 465/500\n",
            "13/13 [==============================] - 0s 3ms/step - loss: 1.1217 - accuracy: 0.9217\n",
            "Epoch 466/500\n",
            "13/13 [==============================] - 0s 3ms/step - loss: 1.1206 - accuracy: 0.9230\n",
            "Epoch 467/500\n",
            "13/13 [==============================] - 0s 3ms/step - loss: 1.1188 - accuracy: 0.9242\n",
            "Epoch 468/500\n",
            "13/13 [==============================] - 0s 3ms/step - loss: 1.1193 - accuracy: 0.9230\n",
            "Epoch 469/500\n",
            "13/13 [==============================] - 0s 3ms/step - loss: 1.1405 - accuracy: 0.9031\n",
            "Epoch 470/500\n",
            "13/13 [==============================] - 0s 3ms/step - loss: 1.1387 - accuracy: 0.9043\n",
            "Epoch 471/500\n",
            "13/13 [==============================] - 0s 4ms/step - loss: 1.1380 - accuracy: 0.9093\n",
            "Epoch 472/500\n",
            "13/13 [==============================] - 0s 3ms/step - loss: 1.1504 - accuracy: 0.8957\n",
            "Epoch 473/500\n",
            "13/13 [==============================] - 0s 3ms/step - loss: 1.1315 - accuracy: 0.9118\n",
            "Epoch 474/500\n",
            "13/13 [==============================] - 0s 3ms/step - loss: 1.1229 - accuracy: 0.9217\n",
            "Epoch 475/500\n",
            "13/13 [==============================] - 0s 3ms/step - loss: 1.1256 - accuracy: 0.9180\n",
            "Epoch 476/500\n",
            "13/13 [==============================] - 0s 3ms/step - loss: 1.1261 - accuracy: 0.9168\n",
            "Epoch 477/500\n",
            "13/13 [==============================] - 0s 3ms/step - loss: 1.1175 - accuracy: 0.9267\n",
            "Epoch 478/500\n",
            "13/13 [==============================] - 0s 2ms/step - loss: 1.1198 - accuracy: 0.9230\n",
            "Epoch 479/500\n",
            "13/13 [==============================] - 0s 3ms/step - loss: 1.1225 - accuracy: 0.9205\n",
            "Epoch 480/500\n",
            "13/13 [==============================] - 0s 2ms/step - loss: 1.1182 - accuracy: 0.9255\n",
            "Epoch 481/500\n",
            "13/13 [==============================] - 0s 3ms/step - loss: 1.1163 - accuracy: 0.9267\n",
            "Epoch 482/500\n",
            "13/13 [==============================] - 0s 3ms/step - loss: 1.1168 - accuracy: 0.9267\n",
            "Epoch 483/500\n",
            "13/13 [==============================] - 0s 2ms/step - loss: 1.1158 - accuracy: 0.9280\n",
            "Epoch 484/500\n",
            "13/13 [==============================] - 0s 3ms/step - loss: 1.1153 - accuracy: 0.9280\n",
            "Epoch 485/500\n",
            "13/13 [==============================] - 0s 2ms/step - loss: 1.1155 - accuracy: 0.9280\n",
            "Epoch 486/500\n",
            "13/13 [==============================] - 0s 3ms/step - loss: 1.1149 - accuracy: 0.9280\n",
            "Epoch 487/500\n",
            "13/13 [==============================] - 0s 2ms/step - loss: 1.1147 - accuracy: 0.9292\n",
            "Epoch 488/500\n",
            "13/13 [==============================] - 0s 3ms/step - loss: 1.1142 - accuracy: 0.9292\n",
            "Epoch 489/500\n",
            "13/13 [==============================] - 0s 3ms/step - loss: 1.1156 - accuracy: 0.9280\n",
            "Epoch 490/500\n",
            "13/13 [==============================] - 0s 3ms/step - loss: 1.1157 - accuracy: 0.9267\n",
            "Epoch 491/500\n",
            "13/13 [==============================] - 0s 2ms/step - loss: 1.1154 - accuracy: 0.9267\n",
            "Epoch 492/500\n",
            "13/13 [==============================] - 0s 3ms/step - loss: 1.1143 - accuracy: 0.9292\n",
            "Epoch 493/500\n",
            "13/13 [==============================] - 0s 3ms/step - loss: 1.1148 - accuracy: 0.9280\n",
            "Epoch 494/500\n",
            "13/13 [==============================] - 0s 3ms/step - loss: 1.1135 - accuracy: 0.9292\n",
            "Epoch 495/500\n",
            "13/13 [==============================] - 0s 3ms/step - loss: 1.1134 - accuracy: 0.9292\n",
            "Epoch 496/500\n",
            "13/13 [==============================] - 0s 3ms/step - loss: 1.1134 - accuracy: 0.9304\n",
            "Epoch 497/500\n",
            "13/13 [==============================] - 0s 2ms/step - loss: 1.1140 - accuracy: 0.9292\n",
            "Epoch 498/500\n",
            "13/13 [==============================] - 0s 3ms/step - loss: 1.1133 - accuracy: 0.9304\n",
            "Epoch 499/500\n",
            "13/13 [==============================] - 0s 3ms/step - loss: 1.1131 - accuracy: 0.9304\n",
            "Epoch 500/500\n",
            "13/13 [==============================] - 0s 2ms/step - loss: 1.1128 - accuracy: 0.9304\n"
          ],
          "name": "stdout"
        }
      ]
    },
    {
      "cell_type": "code",
      "metadata": {
        "id": "ZspSPE9SQHjM",
        "outputId": "57d662d0-a6a6-4998-e4bc-d426be1e0e83",
        "colab": {
          "base_uri": "https://localhost:8080/",
          "height": 613
        }
      },
      "source": [
        "plotHistory(history)"
      ],
      "execution_count": null,
      "outputs": [
        {
          "output_type": "display_data",
          "data": {
            "image/png": "[encoded data removed]",
            "text/plain": [
              "<Figure size 432x288 with 1 Axes>"
            ]
          },
          "metadata": {
            "tags": []
          }
        },
        {
          "output_type": "display_data",
          "data": {
            "image/png": "[encoded data removed]",
            "text/plain": [
              "<Figure size 432x288 with 1 Axes>"
            ]
          },
          "metadata": {
            "tags": []
          }
        }
      ]
    },
    {
      "cell_type": "markdown",
      "metadata": {
        "id": "uPwiuWWwDrgI"
      },
      "source": [
        "#### 9. Model evaluation"
      ]
    },
    {
      "cell_type": "code",
      "metadata": {
        "id": "KZQhQIrjQaBq",
        "outputId": "e4bbfb0f-ea6d-4536-8370-d317018306a7",
        "colab": {
          "base_uri": "https://localhost:8080/",
          "height": 109
        }
      },
      "source": [
        "test_loss, test_acc = model.evaluate(test_images_gray,  test_labels, verbose=2)\n",
        "print(\"\\n-Model evaluation: \")\n",
        "print('Test accuracy:', test_acc)\n",
        "print('Test less:', test_loss)"
      ],
      "execution_count": null,
      "outputs": [
        {
          "output_type": "stream",
          "text": [
            "9/9 - 0s - loss: 1.7916 - accuracy: 0.1715\n",
            "\n",
            "-Model evaluation: \n",
            "Test accuracy: 0.17153283953666687\n",
            "Test less: 1.7915759086608887\n"
          ],
          "name": "stdout"
        }
      ]
    },
    {
      "cell_type": "code",
      "metadata": {
        "id": "QdXM49q89YRl",
        "outputId": "87dfd9d1-6432-44fb-eb5b-dd8fa1c11af3",
        "colab": {
          "base_uri": "https://localhost:8080/",
          "height": 797
        }
      },
      "source": [
        "predictions = model.predict(test_images_gray)\n",
        "pred_labels = np.argmax(predictions, axis = 1)\n",
        "\n",
        "display_random_image(classNames, test_images, pred_labels)"
      ],
      "execution_count": null,
      "outputs": [
        {
          "output_type": "stream",
          "text": [
            "ERROR:root:Internal Python error in the inspect module.\n",
            "Below is the traceback from this internal error.\n",
            "\n"
          ],
          "name": "stderr"
        },
        {
          "output_type": "stream",
          "text": [
            "Traceback (most recent call last):\n",
            "  File \"/usr/local/lib/python3.6/dist-packages/IPython/core/interactiveshell.py\", line 2882, in run_code\n",
            "    exec(code_obj, self.user_global_ns, self.user_ns)\n",
            "  File \"<ipython-input-213-0fc204651de8>\", line 4, in <module>\n",
            "    display_random_image(classNames, test_images, pred_labels)\n",
            "NameError: name 'display_random_image' is not defined\n",
            "\n",
            "During handling of the above exception, another exception occurred:\n",
            "\n",
            "Traceback (most recent call last):\n",
            "  File \"/usr/local/lib/python3.6/dist-packages/IPython/core/interactiveshell.py\", line 1823, in showtraceback\n",
            "    stb = value._render_traceback_()\n",
            "AttributeError: 'NameError' object has no attribute '_render_traceback_'\n",
            "\n",
            "During handling of the above exception, another exception occurred:\n",
            "\n",
            "Traceback (most recent call last):\n",
            "  File \"/usr/local/lib/python3.6/dist-packages/IPython/core/ultratb.py\", line 1132, in get_records\n",
            "    return _fixed_getinnerframes(etb, number_of_lines_of_context, tb_offset)\n",
            "  File \"/usr/local/lib/python3.6/dist-packages/IPython/core/ultratb.py\", line 313, in wrapped\n",
            "    return f(*args, **kwargs)\n",
            "  File \"/usr/local/lib/python3.6/dist-packages/IPython/core/ultratb.py\", line 358, in _fixed_getinnerframes\n",
            "    records = fix_frame_records_filenames(inspect.getinnerframes(etb, context))\n",
            "  File \"/usr/lib/python3.6/inspect.py\", line 1490, in getinnerframes\n",
            "    frameinfo = (tb.tb_frame,) + getframeinfo(tb, context)\n",
            "  File \"/usr/lib/python3.6/inspect.py\", line 1448, in getframeinfo\n",
            "    filename = getsourcefile(frame) or getfile(frame)\n",
            "  File \"/usr/lib/python3.6/inspect.py\", line 696, in getsourcefile\n",
            "    if getattr(getmodule(object, filename), '__loader__', None) is not None:\n",
            "  File \"/usr/lib/python3.6/inspect.py\", line 725, in getmodule\n",
            "    file = getabsfile(object, _filename)\n",
            "  File \"/usr/lib/python3.6/inspect.py\", line 709, in getabsfile\n",
            "    return os.path.normcase(os.path.abspath(_filename))\n",
            "  File \"/usr/lib/python3.6/posixpath.py\", line 383, in abspath\n",
            "    cwd = os.getcwd()\n",
            "OSError: [Errno 107] Transport endpoint is not connected\n"
          ],
          "name": "stdout"
        },
        {
          "output_type": "error",
          "ename": "NameError",
          "evalue": "ignored",
          "traceback": [
            "\u001b[0;31m---------------------------------------------------------------------------\u001b[0m"
          ]
        }
      ]
    },
    {
      "cell_type": "code",
      "metadata": {
        "id": "zXP1m5qx9zNm"
      },
      "source": [
        "printMislabeledImages(classNames, test_images, test_labels, pred_labels)"
      ],
      "execution_count": null,
      "outputs": []
    },
    {
      "cell_type": "code",
      "metadata": {
        "id": "U5J0a99-95Ic",
        "outputId": "35040c8b-ec23-4972-86a7-1c0133368505",
        "colab": {
          "base_uri": "https://localhost:8080/",
          "height": 454
        }
      },
      "source": [
        "confusionMatrix(test_labels, pred_labels)"
      ],
      "execution_count": null,
      "outputs": [
        {
          "output_type": "display_data",
          "data": {
            "image/png": "[encoded data removed]",
            "text/plain": [
              "<Figure size 432x288 with 2 Axes>"
            ]
          },
          "metadata": {
            "tags": []
          }
        }
      ]
    },
    {
      "cell_type": "code",
      "metadata": {
        "id": "gJ8vAgKvQ4AT"
      },
      "source": [
        "predictions = model.predict(test_images_gray)\n",
        "\n",
        "Y_pred = model.predict_generator(test_images_gray, len(test_images_gray) // 32 + 1)\n",
        "y_pred = np.argmax(Y_pred, axis=1)\n",
        "\n",
        "print('Classification Report')\n",
        "print(classification_report(test_labels, y_pred, target_names=classNames, zero_division=0))"
      ],
      "execution_count": null,
      "outputs": []
    },
    {
      "cell_type": "code",
      "metadata": {
        "id": "ypS5ep89RSZz"
      },
      "source": [
        "plot(predictions, test_labels, test_images)"
      ],
      "execution_count": null,
      "outputs": []
    },
    {
      "cell_type": "markdown",
      "metadata": {
        "id": "-zXbdZF1AgYT"
      },
      "source": [
        "#### Data augmentation"
      ]
    },
    {
      "cell_type": "code",
      "metadata": {
        "id": "dOtGMRX0AiVg"
      },
      "source": [
        "resize_and_rescale = tf.keras.Sequential([\n",
        "  layers.experimental.preprocessing.Resizing(32, 32),\n",
        "  layers.experimental.preprocessing.Rescaling(1./255),\n",
        "])\n",
        "\n",
        "data_augmentation = tf.keras.Sequential([\n",
        "  layers.experimental.preprocessing.RandomFlip(\"horizontal_and_vertical\"),\n",
        "  layers.experimental.preprocessing.RandomRotation(0.2)\n",
        "])\n",
        "\n",
        "x = tf.expand_dims(train_images_gray[0], 0)\n",
        "\n",
        "fig = plt.figure(figsize=(10, 10))\n",
        "aug_train = []\n",
        "for i in range(9):\n",
        "  #y = resize_and_rescale(x)\n",
        "  z = data_augmentation(y)\n",
        "  ax = plt.subplot(3, 3, i + 1)\n",
        "  plt.imshow(z[0])\n",
        "  plt.axis(\"off\")\n",
        "  t = tf.squeeze(z)\n",
        "  aug_train.append(t)"
      ],
      "execution_count": null,
      "outputs": []
    }
  ]
}